{
 "cells": [
  {
   "cell_type": "code",
   "execution_count": 8,
   "metadata": {},
   "outputs": [],
   "source": [
    "##Importing pyodbc module\n",
    "import pandas as  pd\n",
    "import pyodbc as odbc\n",
    "import numpy as np"
   ]
  },
  {
   "cell_type": "code",
   "execution_count": 9,
   "metadata": {},
   "outputs": [],
   "source": [
    "##connecting to your database through ODBC\n",
    "cnxn = odbc.connect('DSN=203-serv;UID=sa;PWD=SASMU123', autocommit=True)\n",
    "cursor = cnxn.cursor()"
   ]
  },
  {
   "cell_type": "code",
   "execution_count": 41,
   "metadata": {},
   "outputs": [],
   "source": [
    "temp = pd.read_sql(\"Select * from t_temp_monitoring \"\n",
    "    \"where loc = 'Power House 4' and tgljam between '2021-02-01 06:00:00.000' and '2021-02-27 06:00:00.000'\"\n",
    "    \"order by tgljam desc\"\n",
    "    , cnxn)\n",
    "temp.to_excel(r'C:\\Users\\akaarinda\\Documents\\DataScience\\DSC\\trial Lab\\PwrHouse4_February.xlsx', index = False)"
   ]
  },
  {
   "cell_type": "code",
   "execution_count": 20,
   "metadata": {},
   "outputs": [],
   "source": [
    "def sampling_perjam (y):\n",
    "    perjam = pd.read_sql(\"Select top \"+y+ \"  * from pm_permenit \"\n",
    "    \"where loc = 'Power House 1' and tgljam between '2020-12-29 06:00:00.000' and '2021-01-05 10:00:00.000' \"\n",
    "    \"order by tgljam desc\"\n",
    "    , cnxn)\n",
    "    \n",
    "    return perjam"
   ]
  },
  {
   "cell_type": "code",
   "execution_count": null,
   "metadata": {},
   "outputs": [],
   "source": []
  },
  {
   "cell_type": "code",
   "execution_count": 39,
   "metadata": {},
   "outputs": [
    {
     "data": {
      "text/html": [
       "<div>\n",
       "<style scoped>\n",
       "    .dataframe tbody tr th:only-of-type {\n",
       "        vertical-align: middle;\n",
       "    }\n",
       "\n",
       "    .dataframe tbody tr th {\n",
       "        vertical-align: top;\n",
       "    }\n",
       "\n",
       "    .dataframe thead th {\n",
       "        text-align: right;\n",
       "    }\n",
       "</style>\n",
       "<table border=\"1\" class=\"dataframe\">\n",
       "  <thead>\n",
       "    <tr style=\"text-align: right;\">\n",
       "      <th></th>\n",
       "      <th>tgljam</th>\n",
       "      <th>loc</th>\n",
       "      <th>sensor</th>\n",
       "      <th>temperature</th>\n",
       "    </tr>\n",
       "  </thead>\n",
       "  <tbody>\n",
       "    <tr>\n",
       "      <th>0</th>\n",
       "      <td>2021-02-27 05:52:32.817</td>\n",
       "      <td>Power House 2</td>\n",
       "      <td>Trafo 4</td>\n",
       "      <td>43.4375</td>\n",
       "    </tr>\n",
       "    <tr>\n",
       "      <th>1</th>\n",
       "      <td>2021-02-27 05:52:32.817</td>\n",
       "      <td>Power House 2</td>\n",
       "      <td>Trafo 3</td>\n",
       "      <td>45.0500</td>\n",
       "    </tr>\n",
       "    <tr>\n",
       "      <th>2</th>\n",
       "      <td>2021-02-27 05:52:32.817</td>\n",
       "      <td>Power House 2</td>\n",
       "      <td>Ruang Trafo</td>\n",
       "      <td>34.8250</td>\n",
       "    </tr>\n",
       "    <tr>\n",
       "      <th>3</th>\n",
       "      <td>2021-02-27 05:52:32.817</td>\n",
       "      <td>Power House 2</td>\n",
       "      <td>Ruang CapBank</td>\n",
       "      <td>30.2875</td>\n",
       "    </tr>\n",
       "    <tr>\n",
       "      <th>4</th>\n",
       "      <td>2021-02-27 05:52:32.817</td>\n",
       "      <td>Power House 2</td>\n",
       "      <td>Ruang MDP</td>\n",
       "      <td>33.2750</td>\n",
       "    </tr>\n",
       "    <tr>\n",
       "      <th>...</th>\n",
       "      <td>...</td>\n",
       "      <td>...</td>\n",
       "      <td>...</td>\n",
       "      <td>...</td>\n",
       "    </tr>\n",
       "    <tr>\n",
       "      <th>33619</th>\n",
       "      <td>2021-02-01 06:02:07.587</td>\n",
       "      <td>Power House 2</td>\n",
       "      <td>Ruang MDP</td>\n",
       "      <td>31.9000</td>\n",
       "    </tr>\n",
       "    <tr>\n",
       "      <th>33620</th>\n",
       "      <td>2021-02-01 06:02:07.587</td>\n",
       "      <td>Power House 2</td>\n",
       "      <td>MDP 4</td>\n",
       "      <td>39.7625</td>\n",
       "    </tr>\n",
       "    <tr>\n",
       "      <th>33621</th>\n",
       "      <td>2021-02-01 06:02:07.587</td>\n",
       "      <td>Power House 2</td>\n",
       "      <td>MDP 3</td>\n",
       "      <td>35.7000</td>\n",
       "    </tr>\n",
       "    <tr>\n",
       "      <th>33622</th>\n",
       "      <td>2021-02-01 06:02:07.587</td>\n",
       "      <td>Power House 2</td>\n",
       "      <td>CapBank4</td>\n",
       "      <td>30.1375</td>\n",
       "    </tr>\n",
       "    <tr>\n",
       "      <th>33623</th>\n",
       "      <td>2021-02-01 06:02:07.587</td>\n",
       "      <td>Power House 2</td>\n",
       "      <td>CapBank3</td>\n",
       "      <td>30.0125</td>\n",
       "    </tr>\n",
       "  </tbody>\n",
       "</table>\n",
       "<p>33624 rows × 4 columns</p>\n",
       "</div>"
      ],
      "text/plain": [
       "                       tgljam            loc         sensor  temperature\n",
       "0     2021-02-27 05:52:32.817  Power House 2        Trafo 4      43.4375\n",
       "1     2021-02-27 05:52:32.817  Power House 2        Trafo 3      45.0500\n",
       "2     2021-02-27 05:52:32.817  Power House 2    Ruang Trafo      34.8250\n",
       "3     2021-02-27 05:52:32.817  Power House 2  Ruang CapBank      30.2875\n",
       "4     2021-02-27 05:52:32.817  Power House 2      Ruang MDP      33.2750\n",
       "...                       ...            ...            ...          ...\n",
       "33619 2021-02-01 06:02:07.587  Power House 2      Ruang MDP      31.9000\n",
       "33620 2021-02-01 06:02:07.587  Power House 2          MDP 4      39.7625\n",
       "33621 2021-02-01 06:02:07.587  Power House 2          MDP 3      35.7000\n",
       "33622 2021-02-01 06:02:07.587  Power House 2       CapBank4      30.1375\n",
       "33623 2021-02-01 06:02:07.587  Power House 2       CapBank3      30.0125\n",
       "\n",
       "[33624 rows x 4 columns]"
      ]
     },
     "execution_count": 39,
     "metadata": {},
     "output_type": "execute_result"
    }
   ],
   "source": [
    "temp"
   ]
  }
 ],
 "metadata": {
  "kernelspec": {
   "display_name": "Python 3",
   "language": "python",
   "name": "python3"
  },
  "language_info": {
   "codemirror_mode": {
    "name": "ipython",
    "version": 3
   },
   "file_extension": ".py",
   "mimetype": "text/x-python",
   "name": "python",
   "nbconvert_exporter": "python",
   "pygments_lexer": "ipython3",
   "version": "3.8.5"
  }
 },
 "nbformat": 4,
 "nbformat_minor": 4
}
