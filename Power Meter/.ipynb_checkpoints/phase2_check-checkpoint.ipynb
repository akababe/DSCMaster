{
 "cells": [
  {
   "cell_type": "code",
   "execution_count": 43,
   "metadata": {},
   "outputs": [],
   "source": [
    "##Importing pyodbc module\n",
    "import pandas as  pd\n",
    "import pyodbc as odbc\n",
    "import numpy as np"
   ]
  },
  {
   "cell_type": "code",
   "execution_count": 44,
   "metadata": {},
   "outputs": [],
   "source": [
    "##connecting to your database through ODBC\n",
    "cnxn = odbc.connect('DSN=203-serv;UID=sa;PWD=SASMU123', autocommit=True)\n",
    "cursor = cnxn.cursor()"
   ]
  },
  {
   "cell_type": "code",
   "execution_count": 35,
   "metadata": {
    "scrolled": false
   },
   "outputs": [
    {
     "data": {
      "text/plain": [
       "12168900.0"
      ]
     },
     "execution_count": 35,
     "metadata": {},
     "output_type": "execute_result"
    }
   ],
   "source": [
    "check = pd.read_sql (\"select top 1500 * from pm_perhari \"\n",
    "                     \"where  \"\n",
    "                     \"noip = '172.20.47.1' \"\n",
    "                     \"or noip = '172.20.47.2'\"\n",
    "                     \"or noip = '172.20.47.3'\"\n",
    "                     \"or noip = '172.20.47.4'\"\n",
    "                     \"or noip = '172.20.47.5'\"\n",
    "                     \"or noip = '172.20.47.6'\"\n",
    "                     \"or noip = '172.20.47.7'\"\n",
    "                     \"or noip = '172.20.47.8'\"\n",
    "                     \"or noip = '172.20.47.9'\"\n",
    "                     \"or noip = '172.20.47.10'\"\n",
    "                     \"or noip = '172.20.47.11'\"\n",
    "                     \"or noip = '172.20.47.12'\"\n",
    "                     \"or noip = '172.20.47.13'\"\n",
    "                     \"or noip = '172.20.47.14'\"\n",
    "                     \"or noip = '172.20.47.15'\"\n",
    "                     \"or noip = '172.20.47.16'\"\n",
    "                     \"or noip = '172.20.47.17'\"\n",
    "                     \"or noip = '172.20.47.18'\"\n",
    "                     \"or noip = '172.20.47.19'\"\n",
    "                     \"or noip = '172.20.47.20'\"\n",
    "                     \"or noip = '172.20.47.21'\"\n",
    "                     \"or noip = '172.20.47.22'\"\n",
    "                     \"or noip = '172.20.47.23'\"\n",
    "                     \"or noip = '172.20.47.24'\"\n",
    "                     \"or noip = '172.20.47.25'\"\n",
    "                     \"or noip = '172.20.47.26'\"\n",
    "                     \"or noip = '172.20.47.27'\"\n",
    "                     \"or noip = '172.20.47.28'\"\n",
    "                     \"or noip = '172.20.47.29'\"\n",
    "                     \"or noip = '172.20.47.30'\"\n",
    "                     \"or noip = '172.20.47.31'\"\n",
    "                     \"or noip = '172.20.47.32'\"\n",
    "                     \"or noip = '172.20.47.33'\"\n",
    "                     \"or noip = '172.20.47.34'\"\n",
    "                     \"or noip = '172.20.47.35'\"\n",
    "                     \"or noip = '172.20.47.36'\"\n",
    "                     \"or noip = '172.20.47.37'\"\n",
    "                     \"or noip = '172.20.47.38'\"\n",
    "                     \"or noip = '172.20.47.39'\"\n",
    "                     \"or noip = '172.20.47.40'\"\n",
    "                     \"or noip = '172.20.47.41'\"\n",
    "                     \"or noip = '172.20.47.42'\"\n",
    "                     \"or noip = '172.20.47.43'\"\n",
    "                     \"or noip = '172.20.47.44'\"\n",
    "                     \"or noip = '172.20.47.45'\"\n",
    "                     \"or noip = '172.20.47.46'\"\n",
    "                     \"or noip = '172.20.47.47'\"\n",
    "                     \"or noip = '172.20.47.48'\"\n",
    "                     \"or noip = '172.20.47.49'\"\n",
    "                     \"or noip = '172.20.47.50'\"\n",
    "                     \"or noip = '172.20.47.51'\"\n",
    "                     \"or noip = '172.20.47.52'\"\n",
    "                     \"or noip = '172.20.47.53'\"\n",
    "                     \"or noip = '172.20.47.54'\"\n",
    "                     \"or noip = '172.20.47.55'\"\n",
    "                     \"or noip = '172.20.47.56'\"\n",
    "                     \"or noip = '172.20.47.57'\"\n",
    "                     \"or noip = '172.20.47.58'\"\n",
    "                     \"or noip = '172.20.47.59'\"\n",
    "                     \"or noip = '172.20.47.60'\"\n",
    "                     \"or noip = '172.20.47.61'\"\n",
    "                     \"or noip = '172.20.47.62'\"\n",
    "                     \"or noip = '172.20.47.63'\"\n",
    "                     \"or noip = '172.20.47.64'\"\n",
    "                     \"or noip = '172.20.47.65'\"\n",
    "                     \"or noip = '172.20.47.66'\"\n",
    "                     \"or noip = '172.20.47.67'\"\n",
    "                     \"or noip = '172.20.47.68'\"\n",
    "                     \"or noip = '172.20.47.69'\"\n",
    "                     \"or noip = '172.20.47.70'\"\n",
    "                     \"or noip = '172.20.47.71'\"\n",
    "                     \"or noip = '172.20.47.72'\"\n",
    "                     \"or noip = '172.20.47.73'\"\n",
    "                     \"or noip = '172.20.47.74'\"\n",
    "                     \"or noip = '172.20.47.75'\"\n",
    "                     \"or noip = '172.20.47.76'\"\n",
    "                     \"or noip = '172.20.47.77'\"\n",
    "                     \"or noip = '172.20.47.78'\"\n",
    "                     \"or noip = '172.20.47.79'\"\n",
    "                     \"or noip = '172.20.47.80'\"\n",
    "                     \"or noip = '172.20.47.81'\"\n",
    "                     \"or noip = '172.20.47.82'\"\n",
    "                     \"or noip = '172.20.47.83'\"\n",
    "                     \"or noip = '172.20.47.84'\"\n",
    "                     \"or noip = '172.20.47.85'\"\n",
    "                     \"or noip = '172.20.47.86'\"\n",
    "                     \"or noip = '172.20.47.87'\"\n",
    "                     \"or noip = '172.20.47.88'\"\n",
    "                     \"or noip = '172.20.47.89'\"\n",
    "                     \"or noip = '172.20.47.90'\"\n",
    "                     \"or noip = '172.20.47.91'\"\n",
    "                     \"or noip = '172.20.47.92'\"\n",
    "                     \"or noip = '172.20.47.93'\"\n",
    "                     \"or noip = '172.20.47.94'\"\n",
    "                     \"or noip = '172.20.47.95'\"\n",
    "                     \"or noip = '172.20.47.150'\"\n",
    "                     \"or noip = '172.20.47.151'\"\n",
    "                     \"or noip = '172.20.47.152'\"\n",
    "                     \"or noip = '172.20.47.155'\"\n",
    "                     \"or noip = '172.20.47.156'\"\n",
    "                     \"order by tgljam desc\"\n",
    "                     , cnxn)\n",
    "\n",
    "check.to_excel(r'C:\\Users\\akaarinda\\Documents\\DataScience\\DSC\\trial Lab\\pmcheck.xlsx', index = False)\n",
    "check.kwh_totalizer.max()\n",
    "#check.head(60)"
   ]
  },
  {
   "cell_type": "code",
   "execution_count": 74,
   "metadata": {},
   "outputs": [
    {
     "data": {
      "text/plain": [
       "7261932.0"
      ]
     },
     "execution_count": 74,
     "metadata": {},
     "output_type": "execute_result"
    }
   ],
   "source": [
    "check.head()\n",
    "check.kwh_totalizer[1]"
   ]
  },
  {
   "cell_type": "code",
   "execution_count": 12,
   "metadata": {},
   "outputs": [],
   "source": [
    "moffice = pd.read_sql (\"select top 10 * from pm_perhari \"\n",
    "                     \"where  \"\n",
    "                     \" noip = '172.20.47.30'\"\n",
    "                     \"order by tgljam desc\"\n",
    "                     , cnxn)\n",
    "moffice\n",
    "\n",
    "mv6 = pd.read_sql (\"select top 10 * from pm_perhari \"\n",
    "                     \"where  \"\n",
    "                     \" noip = '172.20.47.156'\"\n",
    "                     \"order by tgljam desc\"\n",
    "                     , cnxn)\n",
    "mv6\n",
    "\n",
    "\n",
    "#moffice['cntprbs'] = moffice ['cntpr']\n",
    "moffice['selisih'] = mv6 ['kwh_perhari'] - moffice ['kwh_perhari']\n",
    "moffice\n",
    "\n",
    "\n",
    "zbz3 = pd.read_sql (\"select top 10 * from pm_perhari \"\n",
    "                     \"where  \"\n",
    "                     \" noip = '172.20.47.00'\"\n",
    "                     \"order by tgljam desc\"\n",
    "                     , cnxn)\n",
    "zbz3\n",
    "\n",
    "mdp1 = pd.read_sql (\"select top 100* from pm_perhari \"\n",
    "                     \"where  \"\n",
    "                     \" noip = '172.20.47.150_'\"\n",
    "                     \"order by tgljam desc\"\n",
    "                     , cnxn)\n",
    "\n",
    "\n",
    "#mdp1.to_excel(r'C:\\Users\\akaarinda\\Documents\\DataScience\\DSC\\trial Lab\\mdp6.xlsx', index = False)\n"
   ]
  },
  {
   "cell_type": "code",
   "execution_count": 79,
   "metadata": {},
   "outputs": [
    {
     "data": {
      "text/html": [
       "<div>\n",
       "<style scoped>\n",
       "    .dataframe tbody tr th:only-of-type {\n",
       "        vertical-align: middle;\n",
       "    }\n",
       "\n",
       "    .dataframe tbody tr th {\n",
       "        vertical-align: top;\n",
       "    }\n",
       "\n",
       "    .dataframe thead th {\n",
       "        text-align: right;\n",
       "    }\n",
       "</style>\n",
       "<table border=\"1\" class=\"dataframe\">\n",
       "  <thead>\n",
       "    <tr style=\"text-align: right;\">\n",
       "      <th></th>\n",
       "      <th>tgljam</th>\n",
       "      <th>noip</th>\n",
       "      <th>kwh_perhari</th>\n",
       "      <th>kwh_totalizer</th>\n",
       "    </tr>\n",
       "  </thead>\n",
       "  <tbody>\n",
       "    <tr>\n",
       "      <th>0</th>\n",
       "      <td>2021-07-31 06:01:13.857</td>\n",
       "      <td>172.20.47.2</td>\n",
       "      <td>62.08105</td>\n",
       "      <td>8042.118</td>\n",
       "    </tr>\n",
       "    <tr>\n",
       "      <th>1</th>\n",
       "      <td>2021-07-30 06:01:13.017</td>\n",
       "      <td>172.20.47.2</td>\n",
       "      <td>64.58057</td>\n",
       "      <td>7980.037</td>\n",
       "    </tr>\n",
       "    <tr>\n",
       "      <th>2</th>\n",
       "      <td>2021-07-29 06:01:12.257</td>\n",
       "      <td>172.20.47.2</td>\n",
       "      <td>60.98340</td>\n",
       "      <td>7915.457</td>\n",
       "    </tr>\n",
       "    <tr>\n",
       "      <th>3</th>\n",
       "      <td>2021-07-28 06:01:11.540</td>\n",
       "      <td>172.20.47.2</td>\n",
       "      <td>60.98340</td>\n",
       "      <td>7853.908</td>\n",
       "    </tr>\n",
       "    <tr>\n",
       "      <th>4</th>\n",
       "      <td>2021-07-27 06:01:11.157</td>\n",
       "      <td>172.20.47.2</td>\n",
       "      <td>64.63477</td>\n",
       "      <td>7792.924</td>\n",
       "    </tr>\n",
       "  </tbody>\n",
       "</table>\n",
       "</div>"
      ],
      "text/plain": [
       "                   tgljam         noip  kwh_perhari  kwh_totalizer\n",
       "0 2021-07-31 06:01:13.857  172.20.47.2     62.08105       8042.118\n",
       "1 2021-07-30 06:01:13.017  172.20.47.2     64.58057       7980.037\n",
       "2 2021-07-29 06:01:12.257  172.20.47.2     60.98340       7915.457\n",
       "3 2021-07-28 06:01:11.540  172.20.47.2     60.98340       7853.908\n",
       "4 2021-07-27 06:01:11.157  172.20.47.2     64.63477       7792.924"
      ]
     },
     "execution_count": 79,
     "metadata": {},
     "output_type": "execute_result"
    }
   ],
   "source": [
    "mdp1x = pd.read_sql (\"select [tgljam],[noip],[kwh_perhari],[kwh_totalizer] from pm_perhari \"\n",
    "                     \"where  \"\n",
    "                     \" noip = '172.20.47.2'\"\n",
    "                     \"and tgljam between '2021-07-01 00:01:11.540' and '2021-07-31 07:01:11.540'\"\n",
    "                     \"order by tgljam desc\"\n",
    "                     , cnxn)\n",
    "mdp1x.head()"
   ]
  },
  {
   "cell_type": "code",
   "execution_count": 76,
   "metadata": {},
   "outputs": [
    {
     "ename": "KeyError",
     "evalue": "-1",
     "output_type": "error",
     "traceback": [
      "\u001b[1;31m---------------------------------------------------------------------------\u001b[0m",
      "\u001b[1;31mValueError\u001b[0m                                Traceback (most recent call last)",
      "\u001b[1;32m~\\.conda\\envs\\sc\\lib\\site-packages\\pandas\\core\\indexes\\range.py\u001b[0m in \u001b[0;36mget_loc\u001b[1;34m(self, key, method, tolerance)\u001b[0m\n\u001b[0;32m    354\u001b[0m                 \u001b[1;32mtry\u001b[0m\u001b[1;33m:\u001b[0m\u001b[1;33m\u001b[0m\u001b[1;33m\u001b[0m\u001b[0m\n\u001b[1;32m--> 355\u001b[1;33m                     \u001b[1;32mreturn\u001b[0m \u001b[0mself\u001b[0m\u001b[1;33m.\u001b[0m\u001b[0m_range\u001b[0m\u001b[1;33m.\u001b[0m\u001b[0mindex\u001b[0m\u001b[1;33m(\u001b[0m\u001b[0mnew_key\u001b[0m\u001b[1;33m)\u001b[0m\u001b[1;33m\u001b[0m\u001b[1;33m\u001b[0m\u001b[0m\n\u001b[0m\u001b[0;32m    356\u001b[0m                 \u001b[1;32mexcept\u001b[0m \u001b[0mValueError\u001b[0m \u001b[1;32mas\u001b[0m \u001b[0merr\u001b[0m\u001b[1;33m:\u001b[0m\u001b[1;33m\u001b[0m\u001b[1;33m\u001b[0m\u001b[0m\n",
      "\u001b[1;31mValueError\u001b[0m: -1 is not in range",
      "\nThe above exception was the direct cause of the following exception:\n",
      "\u001b[1;31mKeyError\u001b[0m                                  Traceback (most recent call last)",
      "\u001b[1;32m<ipython-input-76-cc22aa16fb51>\u001b[0m in \u001b[0;36m<module>\u001b[1;34m\u001b[0m\n\u001b[0;32m     14\u001b[0m \u001b[1;32mfor\u001b[0m \u001b[0mi\u001b[0m \u001b[1;32min\u001b[0m \u001b[0mrange\u001b[0m \u001b[1;33m(\u001b[0m\u001b[1;36m30\u001b[0m\u001b[1;33m)\u001b[0m\u001b[1;33m:\u001b[0m\u001b[1;33m\u001b[0m\u001b[1;33m\u001b[0m\u001b[0m\n\u001b[0;32m     15\u001b[0m     \u001b[1;32mif\u001b[0m \u001b[0mi\u001b[0m \u001b[1;33m<\u001b[0m \u001b[1;33m(\u001b[0m\u001b[1;36m30\u001b[0m\u001b[1;33m-\u001b[0m\u001b[1;36m1\u001b[0m\u001b[1;33m)\u001b[0m\u001b[1;33m:\u001b[0m\u001b[1;33m\u001b[0m\u001b[1;33m\u001b[0m\u001b[0m\n\u001b[1;32m---> 16\u001b[1;33m         \u001b[0mcalcu1\u001b[0m \u001b[1;33m=\u001b[0m \u001b[0mflaw1\u001b[0m\u001b[1;33m.\u001b[0m\u001b[0mkwh_totalizer\u001b[0m\u001b[1;33m[\u001b[0m\u001b[0mi\u001b[0m\u001b[1;33m]\u001b[0m \u001b[1;33m-\u001b[0m \u001b[0mflaw1\u001b[0m\u001b[1;33m.\u001b[0m\u001b[0mkwh_perhari\u001b[0m\u001b[1;33m[\u001b[0m\u001b[0mi\u001b[0m\u001b[1;33m]\u001b[0m \u001b[1;33m-\u001b[0m \u001b[0mflaw1\u001b[0m\u001b[1;33m.\u001b[0m\u001b[0mkwh_totalizer\u001b[0m\u001b[1;33m[\u001b[0m\u001b[0mi\u001b[0m\u001b[1;33m-\u001b[0m\u001b[1;36m1\u001b[0m\u001b[1;33m]\u001b[0m\u001b[1;33m\u001b[0m\u001b[1;33m\u001b[0m\u001b[0m\n\u001b[0m\u001b[0;32m     17\u001b[0m         \u001b[0mbad_list1\u001b[0m\u001b[1;33m.\u001b[0m\u001b[0mappend\u001b[0m \u001b[1;33m(\u001b[0m\u001b[0mcalcu1\u001b[0m\u001b[1;33m)\u001b[0m\u001b[1;33m\u001b[0m\u001b[1;33m\u001b[0m\u001b[0m\n\u001b[0;32m     18\u001b[0m         \u001b[0mblist_frame1\u001b[0m \u001b[1;33m=\u001b[0m \u001b[0mpd\u001b[0m\u001b[1;33m.\u001b[0m\u001b[0mDataFrame\u001b[0m\u001b[1;33m(\u001b[0m\u001b[0mdata\u001b[0m\u001b[1;33m=\u001b[0m\u001b[0mbad_list1\u001b[0m\u001b[1;33m)\u001b[0m\u001b[1;33m\u001b[0m\u001b[1;33m\u001b[0m\u001b[0m\n",
      "\u001b[1;32m~\\.conda\\envs\\sc\\lib\\site-packages\\pandas\\core\\series.py\u001b[0m in \u001b[0;36m__getitem__\u001b[1;34m(self, key)\u001b[0m\n\u001b[0;32m    880\u001b[0m \u001b[1;33m\u001b[0m\u001b[0m\n\u001b[0;32m    881\u001b[0m         \u001b[1;32melif\u001b[0m \u001b[0mkey_is_scalar\u001b[0m\u001b[1;33m:\u001b[0m\u001b[1;33m\u001b[0m\u001b[1;33m\u001b[0m\u001b[0m\n\u001b[1;32m--> 882\u001b[1;33m             \u001b[1;32mreturn\u001b[0m \u001b[0mself\u001b[0m\u001b[1;33m.\u001b[0m\u001b[0m_get_value\u001b[0m\u001b[1;33m(\u001b[0m\u001b[0mkey\u001b[0m\u001b[1;33m)\u001b[0m\u001b[1;33m\u001b[0m\u001b[1;33m\u001b[0m\u001b[0m\n\u001b[0m\u001b[0;32m    883\u001b[0m \u001b[1;33m\u001b[0m\u001b[0m\n\u001b[0;32m    884\u001b[0m         \u001b[1;32mif\u001b[0m \u001b[0mis_hashable\u001b[0m\u001b[1;33m(\u001b[0m\u001b[0mkey\u001b[0m\u001b[1;33m)\u001b[0m\u001b[1;33m:\u001b[0m\u001b[1;33m\u001b[0m\u001b[1;33m\u001b[0m\u001b[0m\n",
      "\u001b[1;32m~\\.conda\\envs\\sc\\lib\\site-packages\\pandas\\core\\series.py\u001b[0m in \u001b[0;36m_get_value\u001b[1;34m(self, label, takeable)\u001b[0m\n\u001b[0;32m    987\u001b[0m \u001b[1;33m\u001b[0m\u001b[0m\n\u001b[0;32m    988\u001b[0m         \u001b[1;31m# Similar to Index.get_value, but we do not fall back to positional\u001b[0m\u001b[1;33m\u001b[0m\u001b[1;33m\u001b[0m\u001b[1;33m\u001b[0m\u001b[0m\n\u001b[1;32m--> 989\u001b[1;33m         \u001b[0mloc\u001b[0m \u001b[1;33m=\u001b[0m \u001b[0mself\u001b[0m\u001b[1;33m.\u001b[0m\u001b[0mindex\u001b[0m\u001b[1;33m.\u001b[0m\u001b[0mget_loc\u001b[0m\u001b[1;33m(\u001b[0m\u001b[0mlabel\u001b[0m\u001b[1;33m)\u001b[0m\u001b[1;33m\u001b[0m\u001b[1;33m\u001b[0m\u001b[0m\n\u001b[0m\u001b[0;32m    990\u001b[0m         \u001b[1;32mreturn\u001b[0m \u001b[0mself\u001b[0m\u001b[1;33m.\u001b[0m\u001b[0mindex\u001b[0m\u001b[1;33m.\u001b[0m\u001b[0m_get_values_for_loc\u001b[0m\u001b[1;33m(\u001b[0m\u001b[0mself\u001b[0m\u001b[1;33m,\u001b[0m \u001b[0mloc\u001b[0m\u001b[1;33m,\u001b[0m \u001b[0mlabel\u001b[0m\u001b[1;33m)\u001b[0m\u001b[1;33m\u001b[0m\u001b[1;33m\u001b[0m\u001b[0m\n\u001b[0;32m    991\u001b[0m \u001b[1;33m\u001b[0m\u001b[0m\n",
      "\u001b[1;32m~\\.conda\\envs\\sc\\lib\\site-packages\\pandas\\core\\indexes\\range.py\u001b[0m in \u001b[0;36mget_loc\u001b[1;34m(self, key, method, tolerance)\u001b[0m\n\u001b[0;32m    355\u001b[0m                     \u001b[1;32mreturn\u001b[0m \u001b[0mself\u001b[0m\u001b[1;33m.\u001b[0m\u001b[0m_range\u001b[0m\u001b[1;33m.\u001b[0m\u001b[0mindex\u001b[0m\u001b[1;33m(\u001b[0m\u001b[0mnew_key\u001b[0m\u001b[1;33m)\u001b[0m\u001b[1;33m\u001b[0m\u001b[1;33m\u001b[0m\u001b[0m\n\u001b[0;32m    356\u001b[0m                 \u001b[1;32mexcept\u001b[0m \u001b[0mValueError\u001b[0m \u001b[1;32mas\u001b[0m \u001b[0merr\u001b[0m\u001b[1;33m:\u001b[0m\u001b[1;33m\u001b[0m\u001b[1;33m\u001b[0m\u001b[0m\n\u001b[1;32m--> 357\u001b[1;33m                     \u001b[1;32mraise\u001b[0m \u001b[0mKeyError\u001b[0m\u001b[1;33m(\u001b[0m\u001b[0mkey\u001b[0m\u001b[1;33m)\u001b[0m \u001b[1;32mfrom\u001b[0m \u001b[0merr\u001b[0m\u001b[1;33m\u001b[0m\u001b[1;33m\u001b[0m\u001b[0m\n\u001b[0m\u001b[0;32m    358\u001b[0m             \u001b[1;32mraise\u001b[0m \u001b[0mKeyError\u001b[0m\u001b[1;33m(\u001b[0m\u001b[0mkey\u001b[0m\u001b[1;33m)\u001b[0m\u001b[1;33m\u001b[0m\u001b[1;33m\u001b[0m\u001b[0m\n\u001b[0;32m    359\u001b[0m         \u001b[1;32mreturn\u001b[0m \u001b[0msuper\u001b[0m\u001b[1;33m(\u001b[0m\u001b[1;33m)\u001b[0m\u001b[1;33m.\u001b[0m\u001b[0mget_loc\u001b[0m\u001b[1;33m(\u001b[0m\u001b[0mkey\u001b[0m\u001b[1;33m,\u001b[0m \u001b[0mmethod\u001b[0m\u001b[1;33m=\u001b[0m\u001b[0mmethod\u001b[0m\u001b[1;33m,\u001b[0m \u001b[0mtolerance\u001b[0m\u001b[1;33m=\u001b[0m\u001b[0mtolerance\u001b[0m\u001b[1;33m)\u001b[0m\u001b[1;33m\u001b[0m\u001b[1;33m\u001b[0m\u001b[0m\n",
      "\u001b[1;31mKeyError\u001b[0m: -1"
     ]
    }
   ],
   "source": [
    "mdp1x = pd.read_sql (\"select [tgljam],[noip],[kwh_perhari],[kwh_totalizer] from pm_perhari \"\n",
    "                     \"where  \"\n",
    "                     \" noip = '172.20.47.2'\"\n",
    "                     \"and tgljam between '2021-07-01 00:01:11.540' and '2021-07-31 07:01:11.540'\"\n",
    "                     \"order by tgljam desc\"\n",
    "                     , cnxn)\n",
    "#mdp1x['hasil'] = mdp1x.kwh_totalizer[1] + mdp1x.kwh_perhari[0]\n",
    "\n",
    "#mdp1x.to_excel(r'C:\\Users\\akaarinda\\Documents\\DataScience\\DSC\\trial Lab\\tex.xlsx', index = False)\n",
    "i = 0 \n",
    "flaw1 = mdp1x\n",
    "bad_list1 = []\n",
    "timdel1 = []\n",
    "for i in range (30):\n",
    "    if i < (30-1):\n",
    "        calcu1 = flaw1.kwh_totalizer[i] - flaw1.kwh_perhari[i] - flaw1.kwh_totalizer[i-1]\n",
    "        bad_list1.append (calcu1)        \n",
    "        blist_frame1 = pd.DataFrame(data=bad_list1)\n",
    "        \n",
    "flaw1['different'] = blist_frame1\n",
    "show_result1 = flaw1[((flaw1['different'])<0) | ((flaw1['different'])>0) ]\n",
    "show_result1"
   ]
  },
  {
   "cell_type": "code",
   "execution_count": null,
   "metadata": {},
   "outputs": [],
   "source": [
    "UPDATE Customers\n",
    "SET ContactName = 'Alfred Schmidt', City= 'Frankfurt'\n",
    "WHERE CustomerID = 1;"
   ]
  },
  {
   "cell_type": "code",
   "execution_count": 31,
   "metadata": {},
   "outputs": [
    {
     "data": {
      "text/plain": [
       "7409.525720000001"
      ]
     },
     "execution_count": 31,
     "metadata": {},
     "output_type": "execute_result"
    }
   ],
   "source": [
    "a = mdp1x.kwh_totalizer[11] - mdp1x.kwh_totalizer[12]\n",
    "b = mdp1x.kwh_totalizer[13] - mdp1x.kwh_totalizer[14]\n",
    "mdp1x.kwh_totalizer[13] + mdp1x.kwh_perhari[12]"
   ]
  },
  {
   "cell_type": "code",
   "execution_count": 62,
   "metadata": {},
   "outputs": [
    {
     "name": "stdout",
     "output_type": "stream",
     "text": [
      "Microsoft SQL Server 2008 R2 (SP1) - 10.50.2500.0 (X64) \n",
      "\tJun 17 2011 00:54:03 \n",
      "\tCopyright (c) Microsoft Corporation\n",
      "\tStandard Edition (64-bit) on Windows NT 6.1 <X64> (Build 7601: Service Pack 1) (Hypervisor)\n",
      "\n"
     ]
    }
   ],
   "source": [
    "#Sample select query\n",
    "cursor.execute(\"SELECT @@version;\") \n",
    "row = cursor.fetchone() \n",
    "while row: \n",
    "    print(row[0])\n",
    "    row = cursor.fetchone()"
   ]
  },
  {
   "cell_type": "code",
   "execution_count": 66,
   "metadata": {},
   "outputs": [
    {
     "name": "stdout",
     "output_type": "stream",
     "text": [
      "Rows inserted: <pyodbc.Cursor object at 0x000002778FB1D430>\n"
     ]
    }
   ],
   "source": [
    "#Sample insert query\n",
    "count = cursor.execute(\"UPDATE pm_perhari SET kwh_perhari = '13.50623' where tgljam = '2021-07-19 06:01:05.847' and noip = '172.20.47.2';\")\n",
    "cnxn.commit()\n",
    "print('Rows inserted: ' + str(count))"
   ]
  },
  {
   "cell_type": "code",
   "execution_count": null,
   "metadata": {},
   "outputs": [],
   "source": [
    "UPDATE Customers\n",
    "SET ContactName = 'Alfred Schmidt', City= 'Frankfurt'\n",
    "WHERE CustomerID = 1;"
   ]
  }
 ],
 "metadata": {
  "kernelspec": {
   "display_name": "Python 3",
   "language": "python",
   "name": "python3"
  },
  "language_info": {
   "codemirror_mode": {
    "name": "ipython",
    "version": 3
   },
   "file_extension": ".py",
   "mimetype": "text/x-python",
   "name": "python",
   "nbconvert_exporter": "python",
   "pygments_lexer": "ipython3",
   "version": "3.8.5"
  }
 },
 "nbformat": 4,
 "nbformat_minor": 4
}
