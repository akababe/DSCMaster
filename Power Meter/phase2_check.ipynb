{
 "cells": [
  {
   "cell_type": "code",
   "execution_count": 324,
   "metadata": {},
   "outputs": [],
   "source": [
    "##Importing pyodbc module\n",
    "import pandas as  pd\n",
    "import pyodbc as odbc\n",
    "import numpy as np"
   ]
  },
  {
   "cell_type": "code",
   "execution_count": 325,
   "metadata": {},
   "outputs": [],
   "source": [
    "##connecting to your database through ODBC\n",
    "cnxn = odbc.connect('DSN=203-serv;UID=sa;PWD=SASMU123', autocommit=True)\n",
    "cursor = cnxn.cursor()"
   ]
  },
  {
   "cell_type": "code",
   "execution_count": 98,
   "metadata": {
    "scrolled": false
   },
   "outputs": [
    {
     "data": {
      "text/plain": [
       "12168900.0"
      ]
     },
     "execution_count": 98,
     "metadata": {},
     "output_type": "execute_result"
    }
   ],
   "source": [
    "check = pd.read_sql (\"select top 1500 * from pm_perhari \"\n",
    "                     \"where  \"\n",
    "                     \"noip = '172.20.47.1' \"\n",
    "                     \"or noip = '172.20.47.2'\"\n",
    "                     \"or noip = '172.20.47.3'\"\n",
    "                     \"or noip = '172.20.47.4'\"\n",
    "                     \"or noip = '172.20.47.5'\"\n",
    "                     \"or noip = '172.20.47.6'\"\n",
    "                     \"or noip = '172.20.47.7'\"\n",
    "                     \"or noip = '172.20.47.8'\"\n",
    "                     \"or noip = '172.20.47.9'\"\n",
    "                     \"or noip = '172.20.47.10'\"\n",
    "                     \"or noip = '172.20.47.11'\"\n",
    "                     \"or noip = '172.20.47.12'\"\n",
    "                     \"or noip = '172.20.47.13'\"\n",
    "                     \"or noip = '172.20.47.14'\"\n",
    "                     \"or noip = '172.20.47.15'\"\n",
    "                     \"or noip = '172.20.47.16'\"\n",
    "                     \"or noip = '172.20.47.17'\"\n",
    "                     \"or noip = '172.20.47.18'\"\n",
    "                     \"or noip = '172.20.47.19'\"\n",
    "                     \"or noip = '172.20.47.20'\"\n",
    "                     \"or noip = '172.20.47.21'\"\n",
    "                     \"or noip = '172.20.47.22'\"\n",
    "                     \"or noip = '172.20.47.23'\"\n",
    "                     \"or noip = '172.20.47.24'\"\n",
    "                     \"or noip = '172.20.47.25'\"\n",
    "                     \"or noip = '172.20.47.26'\"\n",
    "                     \"or noip = '172.20.47.27'\"\n",
    "                     \"or noip = '172.20.47.28'\"\n",
    "                     \"or noip = '172.20.47.29'\"\n",
    "                     \"or noip = '172.20.47.30'\"\n",
    "                     \"or noip = '172.20.47.31'\"\n",
    "                     \"or noip = '172.20.47.32'\"\n",
    "                     \"or noip = '172.20.47.33'\"\n",
    "                     \"or noip = '172.20.47.34'\"\n",
    "                     \"or noip = '172.20.47.35'\"\n",
    "                     \"or noip = '172.20.47.36'\"\n",
    "                     \"or noip = '172.20.47.37'\"\n",
    "                     \"or noip = '172.20.47.38'\"\n",
    "                     \"or noip = '172.20.47.39'\"\n",
    "                     \"or noip = '172.20.47.40'\"\n",
    "                     \"or noip = '172.20.47.41'\"\n",
    "                     \"or noip = '172.20.47.42'\"\n",
    "                     \"or noip = '172.20.47.43'\"\n",
    "                     \"or noip = '172.20.47.44'\"\n",
    "                     \"or noip = '172.20.47.45'\"\n",
    "                     \"or noip = '172.20.47.46'\"\n",
    "                     \"or noip = '172.20.47.47'\"\n",
    "                     \"or noip = '172.20.47.48'\"\n",
    "                     \"or noip = '172.20.47.49'\"\n",
    "                     \"or noip = '172.20.47.50'\"\n",
    "                     \"or noip = '172.20.47.51'\"\n",
    "                     \"or noip = '172.20.47.52'\"\n",
    "                     \"or noip = '172.20.47.53'\"\n",
    "                     \"or noip = '172.20.47.54'\"\n",
    "                     \"or noip = '172.20.47.55'\"\n",
    "                     \"or noip = '172.20.47.56'\"\n",
    "                     \"or noip = '172.20.47.57'\"\n",
    "                     \"or noip = '172.20.47.58'\"\n",
    "                     \"or noip = '172.20.47.59'\"\n",
    "                     \"or noip = '172.20.47.60'\"\n",
    "                     \"or noip = '172.20.47.61'\"\n",
    "                     \"or noip = '172.20.47.62'\"\n",
    "                     \"or noip = '172.20.47.63'\"\n",
    "                     \"or noip = '172.20.47.64'\"\n",
    "                     \"or noip = '172.20.47.65'\"\n",
    "                     \"or noip = '172.20.47.66'\"\n",
    "                     \"or noip = '172.20.47.67'\"\n",
    "                     \"or noip = '172.20.47.68'\"\n",
    "                     \"or noip = '172.20.47.69'\"\n",
    "                     \"or noip = '172.20.47.70'\"\n",
    "                     \"or noip = '172.20.47.71'\"\n",
    "                     \"or noip = '172.20.47.72'\"\n",
    "                     \"or noip = '172.20.47.73'\"\n",
    "                     \"or noip = '172.20.47.74'\"\n",
    "                     \"or noip = '172.20.47.75'\"\n",
    "                     \"or noip = '172.20.47.76'\"\n",
    "                     \"or noip = '172.20.47.77'\"\n",
    "                     \"or noip = '172.20.47.78'\"\n",
    "                     \"or noip = '172.20.47.79'\"\n",
    "                     \"or noip = '172.20.47.80'\"\n",
    "                     \"or noip = '172.20.47.81'\"\n",
    "                     \"or noip = '172.20.47.82'\"\n",
    "                     \"or noip = '172.20.47.83'\"\n",
    "                     \"or noip = '172.20.47.84'\"\n",
    "                     \"or noip = '172.20.47.85'\"\n",
    "                     \"or noip = '172.20.47.86'\"\n",
    "                     \"or noip = '172.20.47.87'\"\n",
    "                     \"or noip = '172.20.47.88'\"\n",
    "                     \"or noip = '172.20.47.89'\"\n",
    "                     \"or noip = '172.20.47.90'\"\n",
    "                     \"or noip = '172.20.47.91'\"\n",
    "                     \"or noip = '172.20.47.92'\"\n",
    "                     \"or noip = '172.20.47.93'\"\n",
    "                     \"or noip = '172.20.47.94'\"\n",
    "                     \"or noip = '172.20.47.95'\"\n",
    "                     \"or noip = '172.20.47.150'\"\n",
    "                     \"or noip = '172.20.47.151'\"\n",
    "                     \"or noip = '172.20.47.152'\"\n",
    "                     \"or noip = '172.20.47.155'\"\n",
    "                     \"or noip = '172.20.47.156'\"\n",
    "                     \"order by tgljam desc\"\n",
    "                     , cnxn)\n",
    "\n",
    "check.to_excel(r'C:\\Users\\akaarinda\\Documents\\DataScience\\DSC\\trial Lab\\pmcheck.xlsx', index = False)\n",
    "check.kwh_totalizer.max()\n",
    "#check.head(60)"
   ]
  },
  {
   "cell_type": "code",
   "execution_count": 99,
   "metadata": {},
   "outputs": [
    {
     "data": {
      "text/plain": [
       "7261932.0"
      ]
     },
     "execution_count": 99,
     "metadata": {},
     "output_type": "execute_result"
    }
   ],
   "source": [
    "check.head()\n",
    "check.kwh_totalizer[1]"
   ]
  },
  {
   "cell_type": "code",
   "execution_count": 12,
   "metadata": {},
   "outputs": [],
   "source": [
    "moffice = pd.read_sql (\"select top 10 * from pm_perhari \"\n",
    "                     \"where  \"\n",
    "                     \" noip = '172.20.47.30'\"\n",
    "                     \"order by tgljam desc\"\n",
    "                     , cnxn)\n",
    "moffice\n",
    "\n",
    "mv6 = pd.read_sql (\"select top 10 * from pm_perhari \"\n",
    "                     \"where  \"\n",
    "                     \" noip = '172.20.47.156'\"\n",
    "                     \"order by tgljam desc\"\n",
    "                     , cnxn)\n",
    "mv6\n",
    "\n",
    "\n",
    "#moffice['cntprbs'] = moffice ['cntpr']\n",
    "moffice['selisih'] = mv6 ['kwh_perhari'] - moffice ['kwh_perhari']\n",
    "moffice\n",
    "\n",
    "\n",
    "zbz3 = pd.read_sql (\"select top 10 * from pm_perhari \"\n",
    "                     \"where  \"\n",
    "                     \" noip = '172.20.47.00'\"\n",
    "                     \"order by tgljam desc\"\n",
    "                     , cnxn)\n",
    "zbz3\n",
    "\n",
    "mdp1 = pd.read_sql (\"select top 100* from pm_perhari \"\n",
    "                     \"where  \"\n",
    "                     \" noip = '172.20.47.150_'\"\n",
    "                     \"order by tgljam desc\"\n",
    "                     , cnxn)\n",
    "\n",
    "\n",
    "#mdp1.to_excel(r'C:\\Users\\akaarinda\\Documents\\DataScience\\DSC\\trial Lab\\mdp6.xlsx', index = False)\n"
   ]
  },
  {
   "cell_type": "code",
   "execution_count": 690,
   "metadata": {
    "scrolled": false
   },
   "outputs": [
    {
     "data": {
      "text/html": [
       "<div>\n",
       "<style scoped>\n",
       "    .dataframe tbody tr th:only-of-type {\n",
       "        vertical-align: middle;\n",
       "    }\n",
       "\n",
       "    .dataframe tbody tr th {\n",
       "        vertical-align: top;\n",
       "    }\n",
       "\n",
       "    .dataframe thead th {\n",
       "        text-align: right;\n",
       "    }\n",
       "</style>\n",
       "<table border=\"1\" class=\"dataframe\">\n",
       "  <thead>\n",
       "    <tr style=\"text-align: right;\">\n",
       "      <th></th>\n",
       "      <th>tgljam</th>\n",
       "      <th>noip</th>\n",
       "      <th>kwh_perhari</th>\n",
       "      <th>kwh_totalizer</th>\n",
       "      <th>selisih</th>\n",
       "      <th>harusnya</th>\n",
       "    </tr>\n",
       "  </thead>\n",
       "  <tbody>\n",
       "    <tr>\n",
       "      <th>13</th>\n",
       "      <td>2021-07-18 06:01:05.087</td>\n",
       "      <td>172.20.47.30</td>\n",
       "      <td>8628.524</td>\n",
       "      <td>7890.424</td>\n",
       "      <td>999999.0</td>\n",
       "      <td>-991370.476</td>\n",
       "    </tr>\n",
       "  </tbody>\n",
       "</table>\n",
       "</div>"
      ],
      "text/plain": [
       "                    tgljam          noip  kwh_perhari  kwh_totalizer  \\\n",
       "13 2021-07-18 06:01:05.087  172.20.47.30     8628.524       7890.424   \n",
       "\n",
       "     selisih    harusnya  \n",
       "13  999999.0 -991370.476  "
      ]
     },
     "execution_count": 690,
     "metadata": {},
     "output_type": "execute_result"
    }
   ],
   "source": [
    "t =\"'172.20.47.30'\"\n",
    "mdp1x = pd.read_sql (\"select [tgljam],[noip],[kwh_perhari],[kwh_totalizer] from pm_perhari \"\n",
    "                     \"where  \"\n",
    "                     \" noip = \"+t+\" \"\n",
    "                     \"and tgljam between '2021-07-01 00:01:11.540' and '2021-07-31 07:01:11.540'\"\n",
    "                     \"order by tgljam desc\"\n",
    "                     , cnxn)\n",
    "\n",
    "#mdp1x['hasil'] = mdp1x.kwh_totalizer[1] + mdp1x.kwh_perhari[0]\n",
    "#mdp1x.to_excel(r'C:\\Users\\akaarinda\\Documents\\DataScience\\DSC\\trial Lab\\tex.xlsx', index = False)\n",
    "\n",
    "te = mdp1x.kwh_perhari.count()\n",
    "\n",
    "i = 0 \n",
    "flaw1 = mdp1x\n",
    "bad_list1 = []\n",
    "timdel1 = []\n",
    "for i in range (te):\n",
    "    if i < (te-1):\n",
    "        calcu1 = flaw1.kwh_totalizer[i] - flaw1.kwh_totalizer[i+1] - flaw1.kwh_perhari[i]\n",
    "        bad_list1.append (calcu1)        \n",
    "        blist_frame1 = pd.DataFrame(data=bad_list1)\n",
    "        \n",
    "        tdel1 = flaw1.kwh_totalizer[i] - flaw1.kwh_totalizer[i+1]\n",
    "        timdel1.append (tdel1)        \n",
    "        timdel1_frame1 = pd.DataFrame(data=timdel1)\n",
    "        \n",
    "flaw1['selisih'] = abs(blist_frame1)\n",
    "flaw1['harusnya']  = timdel1_frame1\n",
    "show_result1 = flaw1[((flaw1['selisih'])>1)]\n",
    "show_result1"
   ]
  },
  {
   "cell_type": "code",
   "execution_count": 689,
   "metadata": {},
   "outputs": [
    {
     "name": "stdout",
     "output_type": "stream",
     "text": [
      "Rows inserted: <pyodbc.Cursor object at 0x000002779079FCB0>\n"
     ]
    }
   ],
   "source": [
    "#Sample insert query\n",
    "count = cursor.execute(\"UPDATE pm_perhari SET kwh_perhari = '10825.430' \"\n",
    "                       \"where tgljam = '2021-07-29 06:01:12.257' \"\n",
    "                       \" and noip = \"+t+\"\")\n",
    "cnxn.commit()\n",
    "print('Rows inserted: ' + str(count))"
   ]
  },
  {
   "cell_type": "code",
   "execution_count": 62,
   "metadata": {},
   "outputs": [
    {
     "name": "stdout",
     "output_type": "stream",
     "text": [
      "Microsoft SQL Server 2008 R2 (SP1) - 10.50.2500.0 (X64) \n",
      "\tJun 17 2011 00:54:03 \n",
      "\tCopyright (c) Microsoft Corporation\n",
      "\tStandard Edition (64-bit) on Windows NT 6.1 <X64> (Build 7601: Service Pack 1) (Hypervisor)\n",
      "\n"
     ]
    }
   ],
   "source": [
    "#Sample select query\n",
    "cursor.execute(\"SELECT @@version;\") \n",
    "row = cursor.fetchone() \n",
    "while row: \n",
    "    print(row[0])\n",
    "    row = cursor.fetchone()"
   ]
  },
  {
   "cell_type": "code",
   "execution_count": 692,
   "metadata": {},
   "outputs": [
    {
     "data": {
      "text/html": [
       "<div>\n",
       "<style scoped>\n",
       "    .dataframe tbody tr th:only-of-type {\n",
       "        vertical-align: middle;\n",
       "    }\n",
       "\n",
       "    .dataframe tbody tr th {\n",
       "        vertical-align: top;\n",
       "    }\n",
       "\n",
       "    .dataframe thead th {\n",
       "        text-align: right;\n",
       "    }\n",
       "</style>\n",
       "<table border=\"1\" class=\"dataframe\">\n",
       "  <thead>\n",
       "    <tr style=\"text-align: right;\">\n",
       "      <th></th>\n",
       "      <th>tgljam</th>\n",
       "      <th>mdp</th>\n",
       "      <th>plant</th>\n",
       "      <th>noip</th>\n",
       "      <th>instr</th>\n",
       "      <th>kwh_perhari</th>\n",
       "      <th>kwh_lwbp</th>\n",
       "      <th>kwh_wbp</th>\n",
       "      <th>kwh_totalizer</th>\n",
       "    </tr>\n",
       "  </thead>\n",
       "  <tbody>\n",
       "    <tr>\n",
       "      <th>0</th>\n",
       "      <td>2021-08-04 06:01:16.323</td>\n",
       "      <td>MDP6</td>\n",
       "      <td>Head Office</td>\n",
       "      <td>172.20.47.30</td>\n",
       "      <td>PM1000</td>\n",
       "      <td>11138.390</td>\n",
       "      <td>8905.781</td>\n",
       "      <td>2232.609</td>\n",
       "      <td>165292.7</td>\n",
       "    </tr>\n",
       "    <tr>\n",
       "      <th>1</th>\n",
       "      <td>2021-08-03 06:01:15.617</td>\n",
       "      <td>MDP6</td>\n",
       "      <td>Head Office</td>\n",
       "      <td>172.20.47.30</td>\n",
       "      <td>PM1000</td>\n",
       "      <td>10868.860</td>\n",
       "      <td>8692.531</td>\n",
       "      <td>2176.328</td>\n",
       "      <td>154154.3</td>\n",
       "    </tr>\n",
       "    <tr>\n",
       "      <th>2</th>\n",
       "      <td>2021-08-02 06:01:14.920</td>\n",
       "      <td>MDP6</td>\n",
       "      <td>Head Office</td>\n",
       "      <td>172.20.47.30</td>\n",
       "      <td>PM1000</td>\n",
       "      <td>5390.141</td>\n",
       "      <td>4041.844</td>\n",
       "      <td>1348.297</td>\n",
       "      <td>143285.5</td>\n",
       "    </tr>\n",
       "    <tr>\n",
       "      <th>3</th>\n",
       "      <td>2021-08-01 06:01:14.393</td>\n",
       "      <td>MDP6</td>\n",
       "      <td>Head Office</td>\n",
       "      <td>172.20.47.30</td>\n",
       "      <td>PM1000</td>\n",
       "      <td>8633.047</td>\n",
       "      <td>7131.156</td>\n",
       "      <td>1501.891</td>\n",
       "      <td>137895.3</td>\n",
       "    </tr>\n",
       "    <tr>\n",
       "      <th>4</th>\n",
       "      <td>2021-07-31 06:01:13.857</td>\n",
       "      <td>MDP6</td>\n",
       "      <td>Head Office</td>\n",
       "      <td>172.20.47.30</td>\n",
       "      <td>PM1000</td>\n",
       "      <td>11064.280</td>\n",
       "      <td>8900.719</td>\n",
       "      <td>2163.563</td>\n",
       "      <td>129262.3</td>\n",
       "    </tr>\n",
       "  </tbody>\n",
       "</table>\n",
       "</div>"
      ],
      "text/plain": [
       "                   tgljam   mdp        plant          noip   instr  \\\n",
       "0 2021-08-04 06:01:16.323  MDP6  Head Office  172.20.47.30  PM1000   \n",
       "1 2021-08-03 06:01:15.617  MDP6  Head Office  172.20.47.30  PM1000   \n",
       "2 2021-08-02 06:01:14.920  MDP6  Head Office  172.20.47.30  PM1000   \n",
       "3 2021-08-01 06:01:14.393  MDP6  Head Office  172.20.47.30  PM1000   \n",
       "4 2021-07-31 06:01:13.857  MDP6  Head Office  172.20.47.30  PM1000   \n",
       "\n",
       "   kwh_perhari  kwh_lwbp   kwh_wbp  kwh_totalizer  \n",
       "0    11138.390  8905.781  2232.609       165292.7  \n",
       "1    10868.860  8692.531  2176.328       154154.3  \n",
       "2     5390.141  4041.844  1348.297       143285.5  \n",
       "3     8633.047  7131.156  1501.891       137895.3  \n",
       "4    11064.280  8900.719  2163.563       129262.3  "
      ]
     },
     "execution_count": 692,
     "metadata": {},
     "output_type": "execute_result"
    }
   ],
   "source": [
    "c11 = pd.read_sql (\"select top 60 * from pm_perhari \"\n",
    "                     \"where  \"\n",
    "                     \"noip = '172.20.47.30' \"\n",
    "                     \"order by tgljam desc\"\n",
    "                     , cnxn)\n",
    "#c11.to_excel(r'C:\\Users\\akaarinda\\Documents\\DataScience\\DSC\\trial Lab\\tex.xlsx', index = False)\n",
    "c11.head()"
   ]
  },
  {
   "cell_type": "code",
   "execution_count": null,
   "metadata": {},
   "outputs": [],
   "source": [
    "j=0\n"
   ]
  }
 ],
 "metadata": {
  "kernelspec": {
   "display_name": "Python 3",
   "language": "python",
   "name": "python3"
  },
  "language_info": {
   "codemirror_mode": {
    "name": "ipython",
    "version": 3
   },
   "file_extension": ".py",
   "mimetype": "text/x-python",
   "name": "python",
   "nbconvert_exporter": "python",
   "pygments_lexer": "ipython3",
   "version": "3.8.5"
  }
 },
 "nbformat": 4,
 "nbformat_minor": 4
}
