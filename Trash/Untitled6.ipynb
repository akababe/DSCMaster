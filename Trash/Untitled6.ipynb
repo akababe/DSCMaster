{
 "cells": [
  {
   "cell_type": "code",
   "execution_count": null,
   "metadata": {
    "scrolled": true
   },
   "outputs": [],
   "source": [
    "#----------------------------------------------------------------------------------------------------------------\n",
    "dictsc = {}\n",
    "beda = 0\n",
    "for nn in range (1,11):\n",
    "    for mm in range (1,4):\n",
    "        sc_paramsc = \"s\"+str(mm)+\"_0\"+str(nn)+\"sc\"\n",
    "        #dictsc[\"esc\"+str(mm)+\"_0\"+str(nn)] = nn+mm\n",
    "        if nn != 3 and nn != 7:\n",
    "            if nn > 9:\n",
    "                sc_paramsc = \"s\"+str(mm)+\"_\"+str(nn)+\"sc\"\n",
    "                \n",
    "            paramsc = eval(sc_paramsc)\n",
    "            #print (sc_paramsc)\n",
    "            bedasc = 0\n",
    "            errsc = 0\n",
    "            #dictsc[\"esc\"+str(mm)+\"_0\"+str(nn)] = nn+mm\n",
    "            for i in range (paramsc.namamesin.count() -1):\n",
    "                if paramsc.index[i] - (paramsc.nobatch.iloc[i] + beda)  !=0 :\n",
    "                    #print(paramsc.nobatch.loc[i-2:i+2])\n",
    "                    beda = paramsc.index[i] - paramsc.nobatch.iloc[i]\n",
    "                    if i != 0 :\n",
    "                        errsc += 1\n",
    "                    if nn > 9 :\n",
    "                        dictsc[\"esc\"+str(mm)+\"_\"+str(nn)] = errsc\n",
    "                    else :\n",
    "                        dictsc[\"esc\"+str(mm)+\"_0\"+str(nn)] = errsc"
   ]
  },
  {
   "cell_type": "code",
   "execution_count": null,
   "metadata": {},
   "outputs": [],
   "source": [
    "db_var = {}\n",
    "for tgl in range (1,10):\n",
    "    for shift in range (1,4):\n",
    "        db_var[\"s\"+str(shift)+\"_0\"+str(tgl)+\"sc\"]\n",
    "db_var"
   ]
  },
  {
   "cell_type": "code",
   "execution_count": null,
   "metadata": {},
   "outputs": [],
   "source": []
  },
  {
   "cell_type": "code",
   "execution_count": null,
   "metadata": {},
   "outputs": [],
   "source": []
  },
  {
   "cell_type": "code",
   "execution_count": null,
   "metadata": {},
   "outputs": [],
   "source": []
  }
 ],
 "metadata": {
  "kernelspec": {
   "display_name": "Python 3",
   "language": "python",
   "name": "python3"
  },
  "language_info": {
   "codemirror_mode": {
    "name": "ipython",
    "version": 3
   },
   "file_extension": ".py",
   "mimetype": "text/x-python",
   "name": "python",
   "nbconvert_exporter": "python",
   "pygments_lexer": "ipython3",
   "version": "3.6.7"
  }
 },
 "nbformat": 4,
 "nbformat_minor": 2
}
