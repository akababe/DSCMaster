{
 "cells": [
  {
   "cell_type": "code",
   "execution_count": 5,
   "metadata": {
    "slideshow": {
     "slide_type": "skip"
    }
   },
   "outputs": [],
   "source": [
    "from traitlets.config.manager import BaseJSONConfigManager\n",
    "path = \"/home/damian/miniconda3/envs/rise_latest/etc/jupyter/nbconfig\"\n",
    "cm = BaseJSONConfigManager(config_dir=path)\n",
    "cm.update(\"livereveal\", {\n",
    "              \"theme\": \"black\",\n",
    "              \"transition\": \"zoom\",\n",
    "              \"start_slideshow_at\": \"selected\",\n",
    "})\n",
    "from IPython.core.display import HTML\n",
    "from IPython.display import Image"
   ]
  },
  {
   "cell_type": "markdown",
   "metadata": {},
   "source": [
    "# Beruang Madu Makan Madu\n",
    "\n",
    "## Aka Arinda\n",
    "### 2019"
   ]
  },
  {
   "cell_type": "markdown",
   "metadata": {
    "slideshow": {
     "slide_type": "slide"
    }
   },
   "source": [
    "# Aka"
   ]
  },
  {
   "cell_type": "markdown",
   "metadata": {
    "slideshow": {
     "slide_type": "subslide"
    }
   },
   "source": [
    "## Sub Aka 1"
   ]
  },
  {
   "cell_type": "markdown",
   "metadata": {
    "slideshow": {
     "slide_type": "subslide"
    }
   },
   "source": [
    "## Sub Aka 2"
   ]
  },
  {
   "cell_type": "markdown",
   "metadata": {
    "slideshow": {
     "slide_type": "subslide"
    }
   },
   "source": [
    "## Sub Aka 3"
   ]
  },
  {
   "cell_type": "markdown",
   "metadata": {
    "slideshow": {
     "slide_type": "subslide"
    }
   },
   "source": [
    "## Sub Aka 4"
   ]
  },
  {
   "cell_type": "markdown",
   "metadata": {
    "slideshow": {
     "slide_type": "slide"
    }
   },
   "source": [
    "# Arinda"
   ]
  },
  {
   "cell_type": "markdown",
   "metadata": {
    "slideshow": {
     "slide_type": "subslide"
    }
   },
   "source": [
    "## Sub Arinda 1"
   ]
  },
  {
   "cell_type": "markdown",
   "metadata": {
    "slideshow": {
     "slide_type": "subslide"
    }
   },
   "source": [
    "## Sub Arinda 2"
   ]
  },
  {
   "cell_type": "markdown",
   "metadata": {
    "slideshow": {
     "slide_type": "subslide"
    }
   },
   "source": [
    "## Sub Arinda 3"
   ]
  },
  {
   "cell_type": "markdown",
   "metadata": {
    "slideshow": {
     "slide_type": "subslide"
    }
   },
   "source": [
    "## Sub Arinda 4"
   ]
  },
  {
   "cell_type": "markdown",
   "metadata": {
    "slideshow": {
     "slide_type": "slide"
    }
   },
   "source": [
    "##### Sub Arinda 5\n",
    "<img src='giphy.gif' style=\"height:500px\"> <t> </t> <img src='gibson.png' style=\"height:200px\">"
   ]
  },
  {
   "cell_type": "markdown",
   "metadata": {
    "slideshow": {
     "slide_type": "slide"
    }
   },
   "source": [
    "<!DOCTYPE html>\n",
    "<html>\n",
    "<meta name=\"viewport\" content=\"width=device-width, initial-scale=1\">\n",
    "<link rel=\"stylesheet\" href=\"https://cdnjs.cloudflare.com/ajax/libs/font-awesome/4.7.0/css/font-awesome.min.css\">\n",
    "<style>\n",
    "body {margin:0;}\n",
    "\n",
    ".icon-bar {\n",
    "  width: 100%;\n",
    "  background-color: #555;\n",
    "  overflow: auto;\n",
    "}\n",
    "\n",
    ".icon-bar a {\n",
    "  float: left;\n",
    "  width: 20%;\n",
    "  text-align: center;\n",
    "  padding: 12px 0;\n",
    "  transition: all 0.3s ease;\n",
    "  color: white;\n",
    "  font-size: 36px;\n",
    "}\n",
    "\n",
    ".icon-bar a:hover {\n",
    "  background-color: #000;\n",
    "}\n",
    "\n",
    ".active {\n",
    "  background-color: #4CAF50;\n",
    "}\n",
    "</style>\n",
    "<body>\n",
    "\n",
    "<div class=\"icon-bar\">\n",
    "  <a class=\"active\" href=\"#\"><i class=\"fa fa-home\"></i></a> \n",
    "  <a href=\"#\"><i class=\"fa fa-search\"></i></a> \n",
    "  <a href=\"#\"><i class=\"fa fa-envelope\"></i></a> \n",
    "  <a href=\"#\"><i class=\"fa fa-globe\"></i></a>\n",
    "  <a href=\"#\"><i class=\"fa fa-trash\"></i></a> \n",
    "</div>\n",
    "\n",
    "</body>\n",
    "</html> "
   ]
  },
  {
   "cell_type": "markdown",
   "metadata": {
    "slideshow": {
     "slide_type": "slide"
    }
   },
   "source": [
    "\n",
    "<!DOCTYPE html>\n",
    "<html>\n",
    "<head>\n",
    "<meta name=\"viewport\" content=\"width=device-width, initial-scale=1\">\n",
    "<style>\n",
    ".btn {\n",
    "  border: none;\n",
    "  color: white;\n",
    "  padding: 14px 28px;\n",
    "  font-size: 16px;\n",
    "  cursor: pointer;\n",
    "}\n",
    "\n",
    ".success {background-color: #4CAF50;} /* Green */\n",
    ".success:hover {background-color: #46a049;}\n",
    "\n",
    ".info {background-color: #2196F3;} /* Blue */\n",
    ".info:hover {background: #0b7dda;}\n",
    "\n",
    ".warning {background-color: #ff9800;} /* Orange */\n",
    ".warning:hover {background: #e68a00;}\n",
    "\n",
    ".danger {background-color: #f44336;} /* Red */ \n",
    ".danger:hover {background: #da190b;}\n",
    "\n",
    ".default {background-color: #e7e7e7; color: black;} /* Gray */ \n",
    ".default:hover {background: #ddd;}\n",
    "</style>\n",
    "</head>\n",
    "<body>\n",
    "\n",
    "<h1>Alert Buttons</h1>\n",
    "\n",
    "<button class=\"btn success\">Success</button>\n",
    "<button class=\"btn info\">Info</button>\n",
    "<button class=\"btn warning\">Warning</button>\n",
    "<button class=\"btn danger\">Danger</button>\n",
    "<button class=\"btn default\">Default</button>\n",
    "\n",
    "</body>\n",
    "</html>"
   ]
  },
  {
   "cell_type": "markdown",
   "metadata": {
    "slideshow": {
     "slide_type": "slide"
    }
   },
   "source": [
    "<img src='giphy.gif' style=\"height:200px\"> <t> </t> <img src='rock.gif' style=\"height:200px\"> <img src='walking.gif' style=\"height:200px\">"
   ]
  },
  {
   "cell_type": "markdown",
   "metadata": {
    "slideshow": {
     "slide_type": "slide"
    }
   },
   "source": [
    "<!DOCTYPE html>\n",
    "<html>\n",
    "<head>\n",
    "<meta name=\"viewport\" content=\"width=device-width, initial-scale=1\">\n",
    "<style>\n",
    "body {font-family: Arial, Helvetica, sans-serif;}\n",
    "\n",
    "#myImg {\n",
    "  border-radius: 5px;\n",
    "  cursor: pointer;\n",
    "  transition: 0.3s;\n",
    "}\n",
    "\n",
    "#myImg:hover {opacity: 0.7;}\n",
    "\n",
    "/* The Modal (background) */\n",
    ".modal {\n",
    "  display: none; /* Hidden by default */\n",
    "  position: fixed; /* Stay in place */\n",
    "  z-index: 1; /* Sit on top */\n",
    "  padding-top: 100px; /* Location of the box */\n",
    "  left: 0;\n",
    "  top: 0;\n",
    "  width: 100%; /* Full width */\n",
    "  height: 100%; /* Full height */\n",
    "  overflow: auto; /* Enable scroll if needed */\n",
    "  background-color: rgb(0,0,0); /* Fallback color */\n",
    "  background-color: rgba(0,0,0,0.9); /* Black w/ opacity */\n",
    "}\n",
    "\n",
    "/* Modal Content (image) */\n",
    ".modal-content {\n",
    "  margin: auto;\n",
    "  display: block;\n",
    "  width: 80%;\n",
    "  max-width: 700px;\n",
    "}\n",
    "\n",
    "/* Caption of Modal Image */\n",
    "#caption {\n",
    "  margin: auto;\n",
    "  display: block;\n",
    "  width: 80%;\n",
    "  max-width: 700px;\n",
    "  text-align: center;\n",
    "  color: #ccc;\n",
    "  padding: 10px 0;\n",
    "  height: 150px;\n",
    "}\n",
    "\n",
    "/* Add Animation */\n",
    ".modal-content, #caption {  \n",
    "  -webkit-animation-name: zoom;\n",
    "  -webkit-animation-duration: 0.6s;\n",
    "  animation-name: zoom;\n",
    "  animation-duration: 0.6s;\n",
    "}\n",
    "\n",
    "@-webkit-keyframes zoom {\n",
    "  from {-webkit-transform:scale(0)} \n",
    "  to {-webkit-transform:scale(1)}\n",
    "}\n",
    "\n",
    "@keyframes zoom {\n",
    "  from {transform:scale(0)} \n",
    "  to {transform:scale(1)}\n",
    "}\n",
    "\n",
    "/* The Close Button */\n",
    ".close {\n",
    "  position: absolute;\n",
    "  top: 15px;\n",
    "  right: 35px;\n",
    "  color: #f1f1f1;\n",
    "  font-size: 40px;\n",
    "  font-weight: bold;\n",
    "  transition: 0.3s;\n",
    "}\n",
    "\n",
    ".close:hover,\n",
    ".close:focus {\n",
    "  color: #bbb;\n",
    "  text-decoration: none;\n",
    "  cursor: pointer;\n",
    "}\n",
    "\n",
    "/* 100% Image Width on Smaller Screens */\n",
    "@media only screen and (max-width: 700px){\n",
    "  .modal-content {\n",
    "    width: 100%;\n",
    "  }\n",
    "}\n",
    "</style>\n",
    "</head>\n",
    "<body>\n",
    "\n",
    "<h2>Image Modal</h2>\n",
    "<p>In this example, we use CSS to create a modal (dialog box) that is hidden by default.</p>\n",
    "<p>We use JavaScript to trigger the modal and to display the current image inside the modal when it is clicked on. Also note that we use the value from the image's \"alt\" attribute as an image caption text inside the modal.</p>\n",
    "\n",
    "<img id=\"myImg\" src=\"wolfrine.gif\" alt=\"Snow\" style=\"width:100%;max-width:300px\">\n",
    "\n",
    "<!-- The Modal -->\n",
    "<div id=\"myModal\" class=\"modal\">\n",
    "  <span class=\"close\">&times;</span>\n",
    "  <img class=\"modal-content\" id=\"img01\">\n",
    "  <div id=\"caption\"></div>\n",
    "</div>\n",
    "\n",
    "<script>\n",
    "// Get the modal\n",
    "var modal = document.getElementById('myModal');\n",
    "\n",
    "// Get the image and insert it inside the modal - use its \"alt\" text as a caption\n",
    "var img = document.getElementById('myImg');\n",
    "var modalImg = document.getElementById(\"img01\");\n",
    "var captionText = document.getElementById(\"caption\");\n",
    "img.onclick = function(){\n",
    "  modal.style.display = \"block\";\n",
    "  modalImg.src = this.src;\n",
    "  captionText.innerHTML = this.alt;\n",
    "}\n",
    "\n",
    "// Get the <span> element that closes the modal\n",
    "var span = document.getElementsByClassName(\"close\")[0];\n",
    "\n",
    "// When the user clicks on <span> (x), close the modal\n",
    "span.onclick = function() { \n",
    "  modal.style.display = \"none\";\n",
    "}\n",
    "</script>\n",
    "\n",
    "</body>\n",
    "</html>\n"
   ]
  },
  {
   "cell_type": "markdown",
   "metadata": {
    "slideshow": {
     "slide_type": "slide"
    }
   },
   "source": [
    "<!DOCTYPE html>\n",
    "<html>\n",
    "<head>\n",
    "<meta name=\"viewport\" content=\"width=device-width, initial-scale=1\">\n",
    "<link rel=\"stylesheet\" href=\"https://cdnjs.cloudflare.com/ajax/libs/font-awesome/4.7.0/css/font-awesome.min.css\">\n",
    "<style>\n",
    ".btn {\n",
    "  background-color: #2196F3;\n",
    "  color: white;\n",
    "  padding: 16px;\n",
    "  font-size: 16px;\n",
    "  border: none;\n",
    "  outline: none;\n",
    "}\n",
    "\n",
    ".dropdown {\n",
    "  position: absolute;\n",
    "  display: inline-block;\n",
    "}\n",
    "\n",
    ".dropdown-content {\n",
    "  display: none;\n",
    "  position: absolute;\n",
    "  background-color: #f1f1f1;\n",
    "  min-width: 160px;\n",
    "  z-index: 1;\n",
    "}\n",
    "\n",
    ".dropdown-content a {\n",
    "  color: black;\n",
    "  padding: 12px 16px;\n",
    "  text-decoration: none;\n",
    "  display: block;\n",
    "}\n",
    "\n",
    ".dropdown-content a:hover {background-color: #ddd}\n",
    "\n",
    ".dropdown:hover .dropdown-content {\n",
    "  display: block;\n",
    "}\n",
    "\n",
    ".btn:hover, .dropdown:hover .btn {\n",
    "  background-color: #0b7dda;\n",
    "}\n",
    "</style>\n",
    "</head>\n",
    "<body>\n",
    "\n",
    "<h2>Split Button Dropdowns</h2>\n",
    "<p>Move the mouse over the arrow icon to open the dropdown menu.</p>\n",
    "\n",
    "<button class=\"btn\">Button</button>\n",
    "<div class=\"dropdown\">\n",
    "  <button class=\"btn\" style=\"border-left:1px solid #0d8bf2\">\n",
    "    <i class=\"fa fa-caret-down\"></i>\n",
    "  </button>\n",
    "  <div class=\"dropdown-content\">\n",
    "    <a href=\"#\">Link 1</a>\n",
    "    <a href=\"#\">Link 2</a>\n",
    "    <a href=\"#\">Link 3</a>\n",
    "  </div>\n",
    "</div>\n",
    "\n",
    "</body>\n",
    "</html>\n"
   ]
  },
  {
   "cell_type": "markdown",
   "metadata": {},
   "source": [
    "\n",
    "<p class=\"lead\">This <a href=\"https://jupyter.org/\">Jupyter notebook</a>\n",
    "shows how to upload data files to be converted\n",
    "to [Photon-HDF5](http://photon-hdf5.org) format. </p>\n",
    "\n",
    "<i>Please send feedback and report any problems to the \n",
    "[Photon-HDF5 google group](https://groups.google.com/forum/#!forum/photon-hdf5).</i>\n",
    "\n",
    "<br>\n",
    "<div class=\"alert alert-warning\">\n",
    "<b>NOTE</b> Uploading data files is only necessary when running the notebook online.\n",
    "</div>"
   ]
  },
  {
   "cell_type": "markdown",
   "metadata": {},
   "source": [
    "<!DOCTYPE html>\n",
    "<html>\n",
    "<head>\n",
    "<meta name=\"viewport\" content=\"width=device-width, initial-scale=1\">\n",
    "<link rel=\"stylesheet\" href=\"https://cdnjs.cloudflare.com/ajax/libs/font-awesome/4.7.0/css/font-awesome.min.css\">\n",
    "<style>\n",
    ".fa {\n",
    "  padding: 20px;\n",
    "  font-size: 30px;\n",
    "  width: 50px;\n",
    "  text-align: center;\n",
    "  text-decoration: none;\n",
    "  margin: 5px 2px;\n",
    "}\n",
    "\n",
    ".fa:hover {\n",
    "    opacity: 0.7;\n",
    "}\n",
    "\n",
    ".fa-facebook {\n",
    "  background: #3B5998;\n",
    "  color: white;\n",
    "}\n",
    "\n",
    ".fa-twitter {\n",
    "  background: #55ACEE;\n",
    "  color: white;\n",
    "}\n",
    "\n",
    ".fa-google {\n",
    "  background: #dd4b39;\n",
    "  color: white;\n",
    "}\n",
    "\n",
    ".fa-linkedin {\n",
    "  background: #007bb5;\n",
    "  color: white;\n",
    "}\n",
    "\n",
    ".fa-youtube {\n",
    "  background: #bb0000;\n",
    "  color: white;\n",
    "}\n",
    "\n",
    ".fa-instagram {\n",
    "  background: #125688;\n",
    "  color: white;\n",
    "}\n",
    "\n",
    ".fa-pinterest {\n",
    "  background: #cb2027;\n",
    "  color: white;\n",
    "}\n",
    "\n",
    ".fa-snapchat-ghost {\n",
    "  background: #fffc00;\n",
    "  color: white;\n",
    "  text-shadow: -1px 0 black, 0 1px black, 1px 0 black, 0 -1px black;\n",
    "}\n",
    "\n",
    ".fa-skype {\n",
    "  background: #00aff0;\n",
    "  color: white;\n",
    "}\n",
    "\n",
    ".fa-android {\n",
    "  background: #a4c639;\n",
    "  color: white;\n",
    "}\n",
    "\n",
    ".fa-dribbble {\n",
    "  background: #ea4c89;\n",
    "  color: white;\n",
    "}\n",
    "\n",
    ".fa-vimeo {\n",
    "  background: #45bbff;\n",
    "  color: white;\n",
    "}\n",
    "\n",
    ".fa-tumblr {\n",
    "  background: #2c4762;\n",
    "  color: white;\n",
    "}\n",
    "\n",
    ".fa-vine {\n",
    "  background: #00b489;\n",
    "  color: white;\n",
    "}\n",
    "\n",
    ".fa-foursquare {\n",
    "  background: #45bbff;\n",
    "  color: white;\n",
    "}\n",
    "\n",
    ".fa-stumbleupon {\n",
    "  background: #eb4924;\n",
    "  color: white;\n",
    "}\n",
    "\n",
    ".fa-flickr {\n",
    "  background: #f40083;\n",
    "  color: white;\n",
    "}\n",
    "\n",
    ".fa-yahoo {\n",
    "  background: #430297;\n",
    "  color: white;\n",
    "}\n",
    "\n",
    ".fa-soundcloud {\n",
    "  background: #ff5500;\n",
    "  color: white;\n",
    "}\n",
    "\n",
    ".fa-reddit {\n",
    "  background: #ff5700;\n",
    "  color: white;\n",
    "}\n",
    "\n",
    ".fa-rss {\n",
    "  background: #ff6600;\n",
    "  color: white;\n",
    "}\n",
    " /* Style buttons */\n",
    ".buttonload {\n",
    "  background-color: #4CAF50; /* Green background */\n",
    "  border: none; /* Remove borders */\n",
    "  color: white; /* White text */\n",
    "  padding: 12px 16px; /* Some padding */\n",
    "  font-size: 16px /* Set a font size */\n",
    "} \n",
    "</style>\n",
    "</head>\n",
    "<body>\n",
    "\n",
    "<h2>Style Social Media Buttons</h2>\n",
    "\n",
    "<!-- Add font awesome icons -->\n",
    "<a href=\"#\" class=\"fa fa-facebook\"></a>\n",
    "<a href=\"#\" class=\"fa fa-twitter\"></a>\n",
    "<a href=\"#\" class=\"fa fa-google\"></a>\n",
    "<a href=\"#\" class=\"fa fa-linkedin\"></a>\n",
    "<a href=\"#\" class=\"fa fa-youtube\"></a>\n",
    "<a href=\"#\" class=\"fa fa-instagram\"></a>\n",
    "<a href=\"#\" class=\"fa fa-pinterest\"></a>\n",
    "<a href=\"#\" class=\"fa fa-snapchat-ghost\"></a>\n",
    "<a href=\"#\" class=\"fa fa-skype\"></a>\n",
    "<a href=\"#\" class=\"fa fa-android\"></a>\n",
    "<a href=\"#\" class=\"fa fa-dribbble\"></a>\n",
    "<a href=\"#\" class=\"fa fa-vimeo\"></a>\n",
    "<a href=\"#\" class=\"fa fa-tumblr\"></a>\n",
    "<a href=\"#\" class=\"fa fa-vine\"></a>\n",
    "<a href=\"#\" class=\"fa fa-foursquare\"></a>\n",
    "<a href=\"#\" class=\"fa fa-stumbleupon\"></a>\n",
    "<a href=\"#\" class=\"fa fa-flickr\"></a>\n",
    "<a href=\"#\" class=\"fa fa-yahoo\"></a>\n",
    "<a href=\"#\" class=\"fa fa-reddit\"></a>\n",
    "<a href=\"#\" class=\"fa fa-rss\"></a>\n",
    "      \n",
    "</body>\n",
    "</html> "
   ]
  },
  {
   "cell_type": "code",
   "execution_count": 1,
   "metadata": {},
   "outputs": [
    {
     "data": {
      "text/html": [
       "<style>div.warn { background-color: #f418b2; border-color: #dFb5b4; border-left: 10px solid #dfb5b4; padding: 0.7em;} </style>"
      ],
      "text/plain": [
       "<IPython.core.display.HTML object>"
      ]
     },
     "execution_count": 1,
     "metadata": {},
     "output_type": "execute_result"
    }
   ],
   "source": [
    "from IPython.display import HTML\n",
    "style = \"<style>div.warn { background-color: #f418b2; border-color: #dFb5b4; border-left: 10px solid #dfb5b4; padding: 0.7em;} </style>\"\n",
    "\".body {background-color: #474e5d; font-family: Helvetica, sans-serif; } \"\n",
    "\".timeline {  position: relative; max-width: 1200px;  margin: 0 auto;}\"\n",
    "\n",
    "\n",
    "\n",
    "\n",
    "\n",
    "\n",
    "\"</style>\"\n",
    "HTML(style)"
   ]
  },
  {
   "cell_type": "markdown",
   "metadata": {
    "slideshow": {
     "slide_type": "slide"
    }
   },
   "source": [
    "<!DOCTYPE html>\n",
    "<html>\n",
    "<head>\n",
    "<meta name=\"viewport\" content=\"width=device-width, initial-scale=1.0\">\n",
    "<style>\n",
    "* {\n",
    "  box-sizing: border-box;\n",
    "}\n",
    "\n",
    "body {\n",
    "  background-color: #474e5d;\n",
    "  font-family: Helvetica, sans-serif;\n",
    "}\n",
    "\n",
    "/* The actual timeline (the vertical ruler) */\n",
    ".timeline {\n",
    "  position: relative;\n",
    "  max-width: 1200px;\n",
    "  margin: 0 auto;\n",
    "}\n",
    "\n",
    "/* The actual timeline (the vertical ruler) */\n",
    ".timeline::after {\n",
    "  content: '';\n",
    "  position: absolute;\n",
    "  width: 6px;\n",
    "  background-color: white;\n",
    "  top: 0;\n",
    "  bottom: 0;\n",
    "  left: 50%;\n",
    "  margin-left: -3px;\n",
    "}\n",
    "\n",
    "/* Container around content */\n",
    ".container {\n",
    "  padding: 10px 40px;\n",
    "  position: relative;\n",
    "  background-color: inherit;\n",
    "  width: 50%;\n",
    "}\n",
    "\n",
    "/* The circles on the timeline */\n",
    ".container::after {\n",
    "  content: '';\n",
    "  position: absolute;\n",
    "  width: 25px;\n",
    "  height: 25px;\n",
    "  right: -17px;\n",
    "  background-color: white;\n",
    "  border: 4px solid #FF9F55;\n",
    "  top: 15px;\n",
    "  border-radius: 50%;\n",
    "  z-index: 1;\n",
    "}\n",
    "\n",
    "/* Place the container to the left */\n",
    ".left {\n",
    "  left: 0;\n",
    "}\n",
    "\n",
    "/* Place the container to the right */\n",
    ".right {\n",
    "  left: 50%;\n",
    "}\n",
    "\n",
    "/* Add arrows to the left container (pointing right) */\n",
    ".left::before {\n",
    "  content: \" \";\n",
    "  height: 0;\n",
    "  position: absolute;\n",
    "  top: 22px;\n",
    "  width: 0;\n",
    "  z-index: 1;\n",
    "  right: 30px;\n",
    "  border: medium solid white;\n",
    "  border-width: 10px 0 10px 10px;\n",
    "  border-color: transparent transparent transparent white;\n",
    "}\n",
    "\n",
    "/* Add arrows to the right container (pointing left) */\n",
    ".right::before {\n",
    "  content: \" \";\n",
    "  height: 0;\n",
    "  position: absolute;\n",
    "  top: 22px;\n",
    "  width: 0;\n",
    "  z-index: 1;\n",
    "  left: 30px;\n",
    "  border: medium solid white;\n",
    "  border-width: 10px 10px 10px 0;\n",
    "  border-color: transparent white transparent transparent;\n",
    "}\n",
    "\n",
    "/* Fix the circle for containers on the right side */\n",
    ".right::after {\n",
    "  left: -16px;\n",
    "}\n",
    "\n",
    "/* The actual content */\n",
    ".content {\n",
    "  padding: 20px 30px;\n",
    "  background-color: white;\n",
    "  position: relative;\n",
    "  border-radius: 6px;\n",
    "}\n",
    "\n",
    "/* Media queries - Responsive timeline on screens less than 600px wide */\n",
    "@media screen and (max-width: 600px) {\n",
    "  /* Place the timelime to the left */\n",
    "  .timeline::after {\n",
    "  left: 31px;\n",
    "  }\n",
    "  \n",
    "  /* Full-width containers */\n",
    "  .container {\n",
    "  width: 100%;\n",
    "  padding-left: 70px;\n",
    "  padding-right: 25px;\n",
    "  }\n",
    "  \n",
    "  /* Make sure that all arrows are pointing leftwards */\n",
    "  .container::before {\n",
    "  left: 60px;\n",
    "  border: medium solid white;\n",
    "  border-width: 10px 10px 10px 0;\n",
    "  border-color: transparent white transparent transparent;\n",
    "  }\n",
    "\n",
    "  /* Make sure all circles are at the same spot */\n",
    "  .left::after, .right::after {\n",
    "  left: 15px;\n",
    "  }\n",
    "  \n",
    "  /* Make all right containers behave like the left ones */\n",
    "  .right {\n",
    "  left: 0%;\n",
    "  }\n",
    "}\n",
    "</style>\n",
    "</head>\n",
    "<body>\n",
    "\n",
    "<div class=\"timeline\">\n",
    "  <div class=\"container left\">\n",
    "    <div class=\"content\">\n",
    "      <h2>2017</h2>\n",
    "      <p>Lorem ipsum dolor sit amet, quo ei simul congue exerci, ad nec admodum perfecto mnesarchum, vim ea mazim fierent detracto. Ea quis iuvaret expetendis his, te elit voluptua dignissim per, habeo iusto primis ea eam.</p>\n",
    "    </div>\n",
    "  </div>\n",
    "  <div class=\"container right\">\n",
    "    <div class=\"content\">\n",
    "      <h2>2016</h2>\n",
    "      <p>Lorem ipsum dolor sit amet, quo ei simul congue exerci, ad nec admodum perfecto mnesarchum, vim ea mazim fierent detracto. Ea quis iuvaret expetendis his, te elit voluptua dignissim per, habeo iusto primis ea eam.</p>\n",
    "    </div>\n",
    "  </div>\n",
    "  <div class=\"container left\">\n",
    "    <div class=\"content\">\n",
    "      <h2>2015</h2>\n",
    "      <p>Lorem ipsum dolor sit amet, quo ei simul congue exerci, ad nec admodum perfecto mnesarchum, vim ea mazim fierent detracto. Ea quis iuvaret expetendis his, te elit voluptua dignissim per, habeo iusto primis ea eam.</p>\n",
    "    </div>\n",
    "  </div>\n",
    "  <div class=\"container right\">\n",
    "    <div class=\"content\">\n",
    "      <h2>2012</h2>\n",
    "      <p>Lorem ipsum dolor sit amet, quo ei simul congue exerci, ad nec admodum perfecto mnesarchum, vim ea mazim fierent detracto. Ea quis iuvaret expetendis his, te elit voluptua dignissim per, habeo iusto primis ea eam.</p>\n",
    "    </div>\n",
    "  </div>\n",
    "  <div class=\"container left\">\n",
    "    <div class=\"content\">\n",
    "      <h2>2011</h2>\n",
    "      <p>Lorem ipsum dolor sit amet, quo ei simul congue exerci, ad nec admodum perfecto mnesarchum, vim ea mazim fierent detracto. Ea quis iuvaret expetendis his, te elit voluptua dignissim per, habeo iusto primis ea eam.</p>\n",
    "    </div>\n",
    "  </div>\n",
    "  <div class=\"container right\">\n",
    "    <div class=\"content\">\n",
    "      <h2>2007</h2>\n",
    "      <p>Lorem ipsum dolor sit amet, quo ei simul congue exerci, ad nec admodum perfecto mnesarchum, vim ea mazim fierent detracto. Ea quis iuvaret expetendis his, te elit voluptua dignissim per, habeo iusto primis ea eam.</p>\n",
    "    </div>\n",
    "  </div>\n",
    "</div>\n",
    "\n",
    "</body>\n",
    "</html>\n"
   ]
  },
  {
   "cell_type": "markdown",
   "metadata": {
    "slideshow": {
     "slide_type": "slide"
    }
   },
   "source": [
    "<html>\n",
    "<head>\n",
    "<meta name=\"viewport\" content=\"width=device-width, initial-scale=1\">\n",
    "<style>\n",
    "* {\n",
    "  box-sizing: border-box;\n",
    "}\n",
    "\n",
    "body {\n",
    "  margin: 0;\n",
    "  font-family: Arial;\n",
    "  font-size: 17px;\n",
    "}\n",
    "\n",
    "#myVideo {\n",
    "  position: fixed;\n",
    "  right: 0;\n",
    "  bottom: 0;\n",
    "  min-width: 100%; \n",
    "  min-height: 100%;\n",
    "}\n",
    "\n",
    ".content {\n",
    "  position: fixed;\n",
    "  bottom: 0;\n",
    "  background: rgba(0, 0, 0, 0.5);\n",
    "  color: #f1f1f1;\n",
    "  width: 100%;\n",
    "  padding: 20px;\n",
    "}\n",
    "\n",
    "#myBtn {\n",
    "  width: 200px;\n",
    "  font-size: 18px;\n",
    "  padding: 10px;\n",
    "  border: none;\n",
    "  background: #000;\n",
    "  color: #fff;\n",
    "  cursor: pointer;\n",
    "}\n",
    "\n",
    "#myBtn:hover {\n",
    "  background: #ddd;\n",
    "  color: black;\n",
    "}\n",
    "</style>\n",
    "</head>\n",
    "<body>\n",
    "\n",
    "<video autoplay muted loop id=\"myVideo\">\n",
    "  <source src=\"Mengulik Argumen Deddy Corbuzier Soal Rokok.mp4\" type=\"video/mp4\">\n",
    "  Your browser does not support HTML5 video.\n",
    "</video>\n",
    "\n",
    "<div class=\"content\">\n",
    "  <h1>Heading</h1>\n",
    "  <p>Lorem ipsum dolor sit amet, an his etiam torquatos. Tollit soleat phaedrum te duo, eum cu recteque expetendis neglegentur. Cu mentitum maiestatis persequeris pro, pri ponderum tractatos ei. Id qui nemore latine molestiae, ad mutat oblique delicatissimi pro.</p>\n",
    "  <button id=\"myBtn\" onclick=\"myFunction()\">Pause</button>\n",
    "</div>\n",
    "\n",
    "<script>\n",
    "var video = document.getElementById(\"myVideo\");\n",
    "var btn = document.getElementById(\"myBtn\");\n",
    "\n",
    "function myFunction() {\n",
    "  if (video.paused) {\n",
    "    video.play();\n",
    "    btn.innerHTML = \"Pause\";\n",
    "  } else {\n",
    "    video.pause();\n",
    "    btn.innerHTML = \"Play\";\n",
    "  }\n",
    "}\n",
    "</script>\n",
    "\n",
    "</body>\n",
    "</html>\n"
   ]
  },
  {
   "cell_type": "code",
   "execution_count": 7,
   "metadata": {},
   "outputs": [
    {
     "data": {
      "text/html": [
       "<style>div.warn { background-color: #f418b2; border-color: #dFb5b4; border-left: 10px solid #dfb5b4; padding: 0.7em;}</style>"
      ],
      "text/plain": [
       "<IPython.core.display.HTML object>"
      ]
     },
     "execution_count": 7,
     "metadata": {},
     "output_type": "execute_result"
    }
   ],
   "source": [
    "from IPython.display import HTML\n",
    "style = \"<style>div.warn { background-color: #f418b2; border-color: #dFb5b4; border-left: 10px solid #dfb5b4; padding: 0.7em;}</style>\"\n",
    "\"<style>div.cgkk { background-color: #f418b2; border-color: #6a054c; border-left: 10px solid #dfb5b4; padding: 0.7em;}</style>\"\n",
    "\n",
    "HTML(style)"
   ]
  },
  {
   "cell_type": "markdown",
   "metadata": {},
   "source": [
    "<div class=\"cgkk\">Warning!</div>"
   ]
  },
  {
   "cell_type": "markdown",
   "metadata": {},
   "source": [
    "<div class=\"alert\">\n",
    "As of IPython 2.0, the user interface has changed significantly\n",
    "</div>"
   ]
  },
  {
   "cell_type": "markdown",
   "metadata": {},
   "source": [
    "<style>\n",
    "    .warning { color: red; }\n",
    "</style>\n",
    "<div class=\"warn\">Warning!</div>"
   ]
  },
  {
   "cell_type": "markdown",
   "metadata": {},
   "source": [
    "def f(x):\n",
    "    \"\"\"a docstring\"\"\"\n",
    "    return x**2"
   ]
  },
  {
   "cell_type": "markdown",
   "metadata": {},
   "source": [
    "$e^{i\\pi} + 1 = 0$"
   ]
  },
  {
   "cell_type": "markdown",
   "metadata": {
    "slideshow": {
     "slide_type": "slide"
    }
   },
   "source": [
    "$$e^x=\\sum_{i=0}^\\infty \\frac{1}{i!}x^i$$"
   ]
  },
  {
   "cell_type": "markdown",
   "metadata": {
    "slideshow": {
     "slide_type": "slide"
    }
   },
   "source": [
    "| This | is   |\n",
    "|------|------|\n",
    "|   a  | table|"
   ]
  },
  {
   "cell_type": "markdown",
   "metadata": {
    "slideshow": {
     "slide_type": "slide"
    }
   },
   "source": [
    "<video width=\"3840\" height=\"600\" controls src=\"Mengulik Argumen Deddy Corbuzier Soal Rokok.mp4\" />"
   ]
  },
  {
   "cell_type": "markdown",
   "metadata": {},
   "source": []
  },
  {
   "cell_type": "code",
   "execution_count": null,
   "metadata": {},
   "outputs": [],
   "source": []
  }
 ],
 "metadata": {
  "celltoolbar": "Slideshow",
  "kernelspec": {
   "display_name": "Python 3",
   "language": "python",
   "name": "python3"
  },
  "language_info": {
   "codemirror_mode": {
    "name": "ipython",
    "version": 3
   },
   "file_extension": ".py",
   "mimetype": "text/x-python",
   "name": "python",
   "nbconvert_exporter": "python",
   "pygments_lexer": "ipython3",
   "version": "3.6.7"
  }
 },
 "nbformat": 4,
 "nbformat_minor": 2
}
