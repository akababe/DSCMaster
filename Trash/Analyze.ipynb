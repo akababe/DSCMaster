{
 "cells": [
  {
   "cell_type": "code",
   "execution_count": null,
   "metadata": {},
   "outputs": [],
   "source": [
    "#################################################################################\n",
    "##Importing pyodbc module                                                    ####\n",
    "import pandas as  pd                                                         ####\n",
    "import pyodbc as odbc                                                        ####\n",
    "##connecting to your database through ODBC                                   ####\n",
    "cnxn = odbc.connect('DSN=250-serv;UID=sa;PWD=pass1234', autocommit=True)     ####\n",
    "cursor = cnxn.cursor()                                                       ####\n",
    "#################################################################################\n",
    "\n",
    "Ttime = pd.read_sql(\"SELECT *  FROM mlog_test \"                                                     # Database\n",
    "                    \"where \"\n",
    "                    \" tgljam between '2019-04-09 10:0:00.000' and '2019-04-09 13:00:00.000' \" # Filter Range Time\n",
    "                    #\"and namamesin = 'E011-X' \"                                                     #Filter Jenis Conveyor\n",
    "                    \"order by tgljam desc\"\n",
    "                    ,cnxn)                                                    #Urutkan\n",
    "\n",
    "#___________________________________________________________________#|\n",
    "#sum_cnt_Ttime = Ttime.cntr.sum()                                    #|\n",
    "#batch_max_Ttime =  max(Ttime.nobatch)                               #|\n",
    "#batch_min_Ttime =  min(Ttime.nobatch)                               #|\n",
    "#Output = sum_cnt_Ttime - (batch_max_Ttime)                          #|\n",
    "#___________________________________________________________________#|\n",
    "Ttime"
   ]
  },
  {
   "cell_type": "markdown",
   "metadata": {},
   "source": [
    "Nilai output selisih (jika output |= 0 maka ada proses counting yang salah)"
   ]
  },
  {
   "cell_type": "code",
   "execution_count": 2,
   "metadata": {
    "scrolled": true
   },
   "outputs": [
    {
     "data": {
      "text/plain": [
       "-115"
      ]
     },
     "execution_count": 2,
     "metadata": {},
     "output_type": "execute_result"
    }
   ],
   "source": [
    "Output"
   ]
  },
  {
   "cell_type": "markdown",
   "metadata": {},
   "source": [
    "Daftar detail Tabel"
   ]
  },
  {
   "cell_type": "code",
   "execution_count": 27,
   "metadata": {
    "scrolled": true
   },
   "outputs": [
    {
     "data": {
      "text/plain": [
       "10"
      ]
     },
     "execution_count": 27,
     "metadata": {},
     "output_type": "execute_result"
    }
   ],
   "source": [
    "Ttime.namamesin.count()"
   ]
  },
  {
   "cell_type": "code",
   "execution_count": 28,
   "metadata": {},
   "outputs": [
    {
     "data": {
      "text/html": [
       "<div>\n",
       "<style scoped>\n",
       "    .dataframe tbody tr th:only-of-type {\n",
       "        vertical-align: middle;\n",
       "    }\n",
       "\n",
       "    .dataframe tbody tr th {\n",
       "        vertical-align: top;\n",
       "    }\n",
       "\n",
       "    .dataframe thead th {\n",
       "        text-align: right;\n",
       "    }\n",
       "</style>\n",
       "<table border=\"1\" class=\"dataframe\">\n",
       "  <thead>\n",
       "    <tr style=\"text-align: right;\">\n",
       "      <th></th>\n",
       "      <th>darireader</th>\n",
       "    </tr>\n",
       "    <tr>\n",
       "      <th>barcode</th>\n",
       "      <th></th>\n",
       "    </tr>\n",
       "  </thead>\n",
       "  <tbody>\n",
       "    <tr>\n",
       "      <th>18998866601433</th>\n",
       "      <td>54</td>\n",
       "    </tr>\n",
       "    <tr>\n",
       "      <th>18998866608555</th>\n",
       "      <td>36</td>\n",
       "    </tr>\n",
       "    <tr>\n",
       "      <th>18998866803691</th>\n",
       "      <td>88</td>\n",
       "    </tr>\n",
       "  </tbody>\n",
       "</table>\n",
       "</div>"
      ],
      "text/plain": [
       "                darireader\n",
       "barcode                   \n",
       "18998866601433          54\n",
       "18998866608555          36\n",
       "18998866803691          88"
      ]
     },
     "execution_count": 28,
     "metadata": {},
     "output_type": "execute_result"
    }
   ],
   "source": [
    "Ttime.groupby('barcode').sum()"
   ]
  },
  {
   "cell_type": "code",
   "execution_count": null,
   "metadata": {},
   "outputs": [],
   "source": [
    "#################################################################################\n",
    "##Importing pyodbc module                                                    ####\n",
    "import pandas as  pd                                                         ####\n",
    "import pyodbc as odbc                                                        ####\n",
    "##connecting to your database through ODBC                                   ####\n",
    "cnxn = odbc.connect('DSN=250-serv;UID=sa;PWD=pass1234', autocommit=True)     ####\n",
    "cursor = cnxn.cursor()                                                       ####\n",
    "#################################################################################\n",
    "\n",
    "Ttime3 = pd.read_sql(\"SELECT *  FROM mlog2 \"                                                     # Database\n",
    "                    #\"where tgljam between '2019-03-15 21:00:00.000' and '2019-03-16 05:00:00.000' \" # Filter Range Time\n",
    "                    #\"and namamesin = 'Conv-X-Ws' \"                                                     #Filter Jenis Conveyor\n",
    "                    \"order by tgljam desc\"\n",
    "                    ,cnxn)                                                    #Urutkan\n",
    "\n",
    "#___________________________________________________________________#|\n",
    "#sum_cnt_Ttime = Ttime.cntr.sum()                                    #|\n",
    "#batch_max_Ttime =  max(Ttime.nobatch)                               #|\n",
    "#\\batch_min_Ttime =  min(Ttime.nobatch)                               #|\n",
    "#Output = sum_cnt_Ttime - (batch_max_Ttime)                          #|\n",
    "#___________________________________________________________________#|\n",
    "Ttime3"
   ]
  },
  {
   "cell_type": "code",
   "execution_count": null,
   "metadata": {},
   "outputs": [],
   "source": [
    "Ttime3.groupby('namamesin').count()"
   ]
  },
  {
   "cell_type": "code",
   "execution_count": null,
   "metadata": {},
   "outputs": [],
   "source": [
    "#################################################################################\n",
    "##Importing pyodbc module                                                    ####\n",
    "import pandas as  pd                                                         ####\n",
    "import pyodbc as odbc                                                        ####\n",
    "##connecting to your database through ODBC                                   ####\n",
    "cnxn = odbc.connect('DSN=250-serv;UID=sa;PWD=pass1234', autocommit=True)     ####\n",
    "cursor = cnxn.cursor()                                                       ####\n",
    "#################################################################################\n",
    "\n",
    "In = pd.read_sql(\"SELECT *  FROM mlog_test \"                                                     # Database\n",
    "                    \"where tgljam between '2019-03-27 18:00:00.000' and '2019-03-27 23:00:00.000' \" # Filter Range Time\n",
    "                    #\" where namamesin = 'ws1' \"                                                     #Filter Jenis Conveyor\n",
    "                    \"order by tgljam desc\"\n",
    "                    ,cnxn)                                                    #Urutkan\n",
    "\n",
    "#___________________________________________________________________#|\n",
    "#sum_cnt_Ttime = Ttime.cntr.sum()                                    #|\n",
    "#batch_max_Ttime =  max(Ttime.nobatch)                               #|\n",
    "#batch_min_Ttime =  min(Ttime.nobatch)                               #|\n",
    "#Output = sum_cnt_Ttime - (batch_max_Ttime)                          #|\n",
    "#___________________________________________________________________#|"
   ]
  },
  {
   "cell_type": "code",
   "execution_count": null,
   "metadata": {
    "scrolled": true
   },
   "outputs": [],
   "source": [
    "In.groupby('namamesin').count()"
   ]
  },
  {
   "cell_type": "code",
   "execution_count": null,
   "metadata": {},
   "outputs": [],
   "source": []
  },
  {
   "cell_type": "code",
   "execution_count": null,
   "metadata": {},
   "outputs": [],
   "source": [
    "#################################################################################\n",
    "##Importing pyodbc module                                                    ####\n",
    "import pandas as  pd                                                         ####\n",
    "import pyodbc as odbc                                                        ####\n",
    "##connecting to your database through ODBC                                   ####\n",
    "cnxn = odbc.connect('DSN=196-serv;UID=support;PWD=support', autocommit=True)     ####\n",
    "cursor = cnxn.cursor()                                                       ####\n",
    "#################################################################################\n",
    "\n",
    "#Inn = pd.read_sql(\"SELECT *  FROM mlog2 \"                                                     # Database\n",
    "#                    \"where tgljam between '2019-03-27 05:00:00.000' and '2019-03-27 23:00:00.000' \" # Filter Range Time\n",
    " #                   #\" where namamesin = 'ws1' \"                                                     #Filter Jenis Conveyor\n",
    " #                   \"order by tgljam desc\"\n",
    "  #                  ,cnxn)                                                    #Urutkan\n",
    "\n",
    "#___________________________________________________________________#|\n",
    "#sum_cnt_Ttime = Ttime.cntr.sum()                                    #|\n",
    "#batch_max_Ttime =  max(Ttime.nobatch)                               #|\n",
    "#batch_min_Ttime =  min(Ttime.nobatch)                               #|\n",
    "#Output = sum_cnt_Ttime - (batch_max_Ttime)                          #|\n",
    "#___________________________________________________________________#|"
   ]
  },
  {
   "cell_type": "code",
   "execution_count": null,
   "metadata": {},
   "outputs": [],
   "source": [
    "Inn.groupby('namamesin').count()"
   ]
  },
  {
   "cell_type": "code",
   "execution_count": null,
   "metadata": {},
   "outputs": [],
   "source": [
    "#################################################################################\n",
    "##Importing pyodbc module                                                    ####\n",
    "import pandas as  pd                                                         ####\n",
    "import pyodbc as odbc                                                        ####\n",
    "##connecting to your database through ODBC                                   ####\n",
    "cnxn = odbc.connect('DSN=196-serv;UID=support;PWD=support', autocommit=True)     ####\n",
    "cursor = cnxn.cursor()                                                       ####\n",
    "#################################################################################\n",
    "\n",
    "#Innn = pd.read_sql(\"SELECT *  FROM mlog \"                                                     # Database\n",
    "#                    \"where tgljam between '2019-03-27 16:00:00.000' and '2019-03-27 23:00:00.000' \" # Filter Range Time\n",
    "                    #\" where namamesin = 'ws1' \"                                                     #Filter Jenis Conveyor\n",
    " #                   \"order by tgljam desc\"\n",
    " #                   ,cnxn)                                                    #Urutkan\n",
    "\n",
    "#___________________________________________________________________#|\n",
    "#sum_cnt_Ttime = Ttime.cntr.sum()                                    #|\n",
    "#batch_max_Ttime =  max(Ttime.nobatch)                               #|\n",
    "#batch_min_Ttime =  min(Ttime.nobatch)                               #|\n",
    "#Output = sum_cnt_Ttime - (batch_max_Ttime)                          #|\n",
    "#___________________________________________________________________#|"
   ]
  },
  {
   "cell_type": "code",
   "execution_count": 1,
   "metadata": {},
   "outputs": [
    {
     "ename": "NameError",
     "evalue": "name 'Innn' is not defined",
     "output_type": "error",
     "traceback": [
      "\u001b[1;31m---------------------------------------------------------------------------\u001b[0m",
      "\u001b[1;31mNameError\u001b[0m                                 Traceback (most recent call last)",
      "\u001b[1;32m<ipython-input-1-78daa14d357e>\u001b[0m in \u001b[0;36m<module>\u001b[1;34m\u001b[0m\n\u001b[1;32m----> 1\u001b[1;33m \u001b[0mInnn\u001b[0m\u001b[1;33m.\u001b[0m\u001b[0mgroupby\u001b[0m\u001b[1;33m(\u001b[0m\u001b[1;34m'namamesin'\u001b[0m\u001b[1;33m)\u001b[0m\u001b[1;33m.\u001b[0m\u001b[0mcount\u001b[0m\u001b[1;33m(\u001b[0m\u001b[1;33m)\u001b[0m\u001b[1;33m\u001b[0m\u001b[1;33m\u001b[0m\u001b[0m\n\u001b[0m",
      "\u001b[1;31mNameError\u001b[0m: name 'Innn' is not defined"
     ]
    }
   ],
   "source": [
    "Innn.groupby('namamesin').count()"
   ]
  },
  {
   "cell_type": "code",
   "execution_count": null,
   "metadata": {},
   "outputs": [],
   "source": []
  }
 ],
 "metadata": {
  "kernelspec": {
   "display_name": "Python 3",
   "language": "python",
   "name": "python3"
  },
  "language_info": {
   "codemirror_mode": {
    "name": "ipython",
    "version": 3
   },
   "file_extension": ".py",
   "mimetype": "text/x-python",
   "name": "python",
   "nbconvert_exporter": "python",
   "pygments_lexer": "ipython3",
   "version": "3.8.3"
  }
 },
 "nbformat": 4,
 "nbformat_minor": 2
}
